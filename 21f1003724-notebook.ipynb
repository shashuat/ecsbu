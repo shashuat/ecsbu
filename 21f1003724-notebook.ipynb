{
 "cells": [
  {
   "cell_type": "code",
   "execution_count": 1,
   "id": "ff36f80e",
   "metadata": {
    "_cell_guid": "b1076dfc-b9ad-4769-8c92-a6c4dae69d19",
    "_uuid": "8f2839f25d086af736a60e9eeb907d3b93b6e0e5",
    "execution": {
     "iopub.execute_input": "2023-03-20T10:18:28.191600Z",
     "iopub.status.busy": "2023-03-20T10:18:28.191079Z",
     "iopub.status.idle": "2023-03-20T10:18:28.204423Z",
     "shell.execute_reply": "2023-03-20T10:18:28.203493Z"
    },
    "papermill": {
     "duration": 0.030309,
     "end_time": "2023-03-20T10:18:28.207528",
     "exception": false,
     "start_time": "2023-03-20T10:18:28.177219",
     "status": "completed"
    },
    "tags": []
   },
   "outputs": [
    {
     "name": "stdout",
     "output_type": "stream",
     "text": [
      "/kaggle/input/e-commerce-shoppers-behaviour-understanding/test_data_v2.csv\n",
      "/kaggle/input/e-commerce-shoppers-behaviour-understanding/train_data_v2.csv\n",
      "/kaggle/input/e-commerce-shoppers-behaviour-understanding/sample.csv\n"
     ]
    }
   ],
   "source": [
    "# This Python 3 environment comes with many helpful analytics libraries installed\n",
    "# It is defined by the kaggle/python Docker image: https://github.com/kaggle/docker-python\n",
    "# For example, here's several helpful packages to load\n",
    "\n",
    "import numpy as np # linear algebra\n",
    "import pandas as pd # data processing, CSV file I/O (e.g. pd.read_csv)\n",
    "\n",
    "# Input data files are available in the read-only \"../input/\" directory\n",
    "# For example, running this (by clicking run or pressing Shift+Enter) will list all files under the input directory\n",
    "\n",
    "import os\n",
    "for dirname, _, filenames in os.walk('/kaggle/input'):\n",
    "    for filename in filenames:\n",
    "        print(os.path.join(dirname, filename))\n",
    "\n",
    "# You can write up to 20GB to the current directory (/kaggle/working/) that gets preserved as output when you create a version using \"Save & Run All\" \n",
    "# You can also write temporary files to /kaggle/temp/, but they won't be saved outside of the current session"
   ]
  },
  {
   "cell_type": "code",
   "execution_count": 2,
   "id": "f26518ab",
   "metadata": {
    "execution": {
     "iopub.execute_input": "2023-03-20T10:18:28.230907Z",
     "iopub.status.busy": "2023-03-20T10:18:28.230107Z",
     "iopub.status.idle": "2023-03-20T10:18:29.634287Z",
     "shell.execute_reply": "2023-03-20T10:18:29.633044Z"
    },
    "papermill": {
     "duration": 1.418783,
     "end_time": "2023-03-20T10:18:29.637252",
     "exception": false,
     "start_time": "2023-03-20T10:18:28.218469",
     "status": "completed"
    },
    "tags": []
   },
   "outputs": [],
   "source": [
    "import sklearn\n",
    "import matplotlib.pyplot as plt\n",
    "import seaborn as sns\n",
    "sns.set_style('whitegrid')\n",
    "from sklearn.metrics import classification_report"
   ]
  },
  {
   "cell_type": "code",
   "execution_count": 3,
   "id": "5a22f336",
   "metadata": {
    "execution": {
     "iopub.execute_input": "2023-03-20T10:18:29.661689Z",
     "iopub.status.busy": "2023-03-20T10:18:29.661275Z",
     "iopub.status.idle": "2023-03-20T10:18:29.666871Z",
     "shell.execute_reply": "2023-03-20T10:18:29.665814Z"
    },
    "papermill": {
     "duration": 0.021318,
     "end_time": "2023-03-20T10:18:29.669075",
     "exception": false,
     "start_time": "2023-03-20T10:18:29.647757",
     "status": "completed"
    },
    "tags": []
   },
   "outputs": [],
   "source": [
    "base_dir = \"/kaggle/input/e-commerce-shoppers-behaviour-understanding/\"\n"
   ]
  },
  {
   "cell_type": "code",
   "execution_count": 4,
   "id": "85d5f15f",
   "metadata": {
    "execution": {
     "iopub.execute_input": "2023-03-20T10:18:29.692031Z",
     "iopub.status.busy": "2023-03-20T10:18:29.690982Z",
     "iopub.status.idle": "2023-03-20T10:18:29.859239Z",
     "shell.execute_reply": "2023-03-20T10:18:29.857825Z"
    },
    "papermill": {
     "duration": 0.183064,
     "end_time": "2023-03-20T10:18:29.862276",
     "exception": false,
     "start_time": "2023-03-20T10:18:29.679212",
     "status": "completed"
    },
    "tags": []
   },
   "outputs": [],
   "source": [
    "train = pd.read_csv(base_dir + \"train_data_v2.csv\")\n",
    "test = pd.read_csv(base_dir + \"test_data_v2.csv\")\n",
    "sample = pd.read_csv(base_dir + \"sample.csv\")"
   ]
  },
  {
   "cell_type": "code",
   "execution_count": 5,
   "id": "f3024dda",
   "metadata": {
    "execution": {
     "iopub.execute_input": "2023-03-20T10:18:29.884967Z",
     "iopub.status.busy": "2023-03-20T10:18:29.884504Z",
     "iopub.status.idle": "2023-03-20T10:18:29.892102Z",
     "shell.execute_reply": "2023-03-20T10:18:29.890630Z"
    },
    "papermill": {
     "duration": 0.022968,
     "end_time": "2023-03-20T10:18:29.895482",
     "exception": false,
     "start_time": "2023-03-20T10:18:29.872514",
     "status": "completed"
    },
    "tags": []
   },
   "outputs": [
    {
     "name": "stdout",
     "output_type": "stream",
     "text": [
      "Train Shape: (14731, 22)\n",
      "Test Shape: (6599, 21)\n"
     ]
    }
   ],
   "source": [
    "print(\"Train Shape: \" + str(train.shape))\n",
    "print(\"Test Shape: \" + str(test.shape))"
   ]
  },
  {
   "cell_type": "code",
   "execution_count": 6,
   "id": "89705550",
   "metadata": {
    "execution": {
     "iopub.execute_input": "2023-03-20T10:18:29.918095Z",
     "iopub.status.busy": "2023-03-20T10:18:29.917611Z",
     "iopub.status.idle": "2023-03-20T10:18:29.964696Z",
     "shell.execute_reply": "2023-03-20T10:18:29.963209Z"
    },
    "papermill": {
     "duration": 0.06226,
     "end_time": "2023-03-20T10:18:29.968025",
     "exception": false,
     "start_time": "2023-03-20T10:18:29.905765",
     "status": "completed"
    },
    "tags": []
   },
   "outputs": [
    {
     "data": {
      "text/html": [
       "<div>\n",
       "<style scoped>\n",
       "    .dataframe tbody tr th:only-of-type {\n",
       "        vertical-align: middle;\n",
       "    }\n",
       "\n",
       "    .dataframe tbody tr th {\n",
       "        vertical-align: top;\n",
       "    }\n",
       "\n",
       "    .dataframe thead th {\n",
       "        text-align: right;\n",
       "    }\n",
       "</style>\n",
       "<table border=\"1\" class=\"dataframe\">\n",
       "  <thead>\n",
       "    <tr style=\"text-align: right;\">\n",
       "      <th></th>\n",
       "      <th>HomePage</th>\n",
       "      <th>HomePage_Duration</th>\n",
       "      <th>LandingPage</th>\n",
       "      <th>LandingPage_Duration</th>\n",
       "      <th>ProductDescriptionPage</th>\n",
       "      <th>ProductDescriptionPage_Duration</th>\n",
       "      <th>GoogleMetric:Bounce Rates</th>\n",
       "      <th>GoogleMetric:Exit Rates</th>\n",
       "      <th>GoogleMetric:Page Values</th>\n",
       "      <th>SeasonalPurchase</th>\n",
       "      <th>...</th>\n",
       "      <th>SearchEngine</th>\n",
       "      <th>Zone</th>\n",
       "      <th>Type of Traffic</th>\n",
       "      <th>CustomerType</th>\n",
       "      <th>Gender</th>\n",
       "      <th>Cookies Setting</th>\n",
       "      <th>Education</th>\n",
       "      <th>Marital Status</th>\n",
       "      <th>WeekendPurchase</th>\n",
       "      <th>Made_Purchase</th>\n",
       "    </tr>\n",
       "  </thead>\n",
       "  <tbody>\n",
       "    <tr>\n",
       "      <th>0</th>\n",
       "      <td>0.0</td>\n",
       "      <td>0.0</td>\n",
       "      <td>0.0</td>\n",
       "      <td>0.0</td>\n",
       "      <td>1.0</td>\n",
       "      <td>0.000000</td>\n",
       "      <td>0.20</td>\n",
       "      <td>0.20</td>\n",
       "      <td>0.0</td>\n",
       "      <td>0.0</td>\n",
       "      <td>...</td>\n",
       "      <td>1.0</td>\n",
       "      <td>9.0</td>\n",
       "      <td>3.0</td>\n",
       "      <td>Returning_Visitor</td>\n",
       "      <td>Not Specified</td>\n",
       "      <td>Deny</td>\n",
       "      <td>Not Specified</td>\n",
       "      <td>Other</td>\n",
       "      <td>0.0</td>\n",
       "      <td>False</td>\n",
       "    </tr>\n",
       "    <tr>\n",
       "      <th>1</th>\n",
       "      <td>0.0</td>\n",
       "      <td>0.0</td>\n",
       "      <td>0.0</td>\n",
       "      <td>0.0</td>\n",
       "      <td>2.0</td>\n",
       "      <td>2.666667</td>\n",
       "      <td>0.05</td>\n",
       "      <td>0.14</td>\n",
       "      <td>0.0</td>\n",
       "      <td>0.0</td>\n",
       "      <td>...</td>\n",
       "      <td>2.0</td>\n",
       "      <td>2.0</td>\n",
       "      <td>4.0</td>\n",
       "      <td>Returning_Visitor</td>\n",
       "      <td>Female</td>\n",
       "      <td>Deny</td>\n",
       "      <td>Others</td>\n",
       "      <td>Married</td>\n",
       "      <td>0.0</td>\n",
       "      <td>False</td>\n",
       "    </tr>\n",
       "    <tr>\n",
       "      <th>2</th>\n",
       "      <td>0.0</td>\n",
       "      <td>0.0</td>\n",
       "      <td>0.0</td>\n",
       "      <td>0.0</td>\n",
       "      <td>10.0</td>\n",
       "      <td>627.500000</td>\n",
       "      <td>0.02</td>\n",
       "      <td>0.05</td>\n",
       "      <td>0.0</td>\n",
       "      <td>0.0</td>\n",
       "      <td>...</td>\n",
       "      <td>3.0</td>\n",
       "      <td>1.0</td>\n",
       "      <td>4.0</td>\n",
       "      <td>Returning_Visitor</td>\n",
       "      <td>Female</td>\n",
       "      <td>ALL</td>\n",
       "      <td>Others</td>\n",
       "      <td>Married</td>\n",
       "      <td>1.0</td>\n",
       "      <td>False</td>\n",
       "    </tr>\n",
       "    <tr>\n",
       "      <th>3</th>\n",
       "      <td>0.0</td>\n",
       "      <td>0.0</td>\n",
       "      <td>0.0</td>\n",
       "      <td>0.0</td>\n",
       "      <td>1.0</td>\n",
       "      <td>0.000000</td>\n",
       "      <td>0.20</td>\n",
       "      <td>0.20</td>\n",
       "      <td>0.0</td>\n",
       "      <td>0.4</td>\n",
       "      <td>...</td>\n",
       "      <td>4.0</td>\n",
       "      <td>3.0</td>\n",
       "      <td>3.0</td>\n",
       "      <td>Returning_Visitor</td>\n",
       "      <td>Male</td>\n",
       "      <td>ALL</td>\n",
       "      <td>Diploma</td>\n",
       "      <td>Single</td>\n",
       "      <td>0.0</td>\n",
       "      <td>False</td>\n",
       "    </tr>\n",
       "    <tr>\n",
       "      <th>4</th>\n",
       "      <td>1.0</td>\n",
       "      <td>0.0</td>\n",
       "      <td>0.0</td>\n",
       "      <td>0.0</td>\n",
       "      <td>0.0</td>\n",
       "      <td>0.000000</td>\n",
       "      <td>0.20</td>\n",
       "      <td>0.20</td>\n",
       "      <td>0.0</td>\n",
       "      <td>0.0</td>\n",
       "      <td>...</td>\n",
       "      <td>2.0</td>\n",
       "      <td>1.0</td>\n",
       "      <td>5.0</td>\n",
       "      <td>Returning_Visitor</td>\n",
       "      <td>Male</td>\n",
       "      <td>Deny</td>\n",
       "      <td>Diploma</td>\n",
       "      <td>Other</td>\n",
       "      <td>1.0</td>\n",
       "      <td>False</td>\n",
       "    </tr>\n",
       "  </tbody>\n",
       "</table>\n",
       "<p>5 rows × 22 columns</p>\n",
       "</div>"
      ],
      "text/plain": [
       "   HomePage  HomePage_Duration  LandingPage  LandingPage_Duration  \\\n",
       "0       0.0                0.0          0.0                   0.0   \n",
       "1       0.0                0.0          0.0                   0.0   \n",
       "2       0.0                0.0          0.0                   0.0   \n",
       "3       0.0                0.0          0.0                   0.0   \n",
       "4       1.0                0.0          0.0                   0.0   \n",
       "\n",
       "   ProductDescriptionPage  ProductDescriptionPage_Duration  \\\n",
       "0                     1.0                         0.000000   \n",
       "1                     2.0                         2.666667   \n",
       "2                    10.0                       627.500000   \n",
       "3                     1.0                         0.000000   \n",
       "4                     0.0                         0.000000   \n",
       "\n",
       "   GoogleMetric:Bounce Rates  GoogleMetric:Exit Rates  \\\n",
       "0                       0.20                     0.20   \n",
       "1                       0.05                     0.14   \n",
       "2                       0.02                     0.05   \n",
       "3                       0.20                     0.20   \n",
       "4                       0.20                     0.20   \n",
       "\n",
       "   GoogleMetric:Page Values  SeasonalPurchase  ... SearchEngine  Zone  \\\n",
       "0                       0.0               0.0  ...          1.0   9.0   \n",
       "1                       0.0               0.0  ...          2.0   2.0   \n",
       "2                       0.0               0.0  ...          3.0   1.0   \n",
       "3                       0.0               0.4  ...          4.0   3.0   \n",
       "4                       0.0               0.0  ...          2.0   1.0   \n",
       "\n",
       "   Type of Traffic       CustomerType         Gender Cookies Setting  \\\n",
       "0              3.0  Returning_Visitor  Not Specified            Deny   \n",
       "1              4.0  Returning_Visitor         Female            Deny   \n",
       "2              4.0  Returning_Visitor         Female             ALL   \n",
       "3              3.0  Returning_Visitor           Male             ALL   \n",
       "4              5.0  Returning_Visitor           Male            Deny   \n",
       "\n",
       "       Education Marital Status WeekendPurchase Made_Purchase  \n",
       "0  Not Specified          Other             0.0         False  \n",
       "1         Others        Married             0.0         False  \n",
       "2         Others        Married             1.0         False  \n",
       "3        Diploma         Single             0.0         False  \n",
       "4        Diploma          Other             1.0         False  \n",
       "\n",
       "[5 rows x 22 columns]"
      ]
     },
     "execution_count": 6,
     "metadata": {},
     "output_type": "execute_result"
    }
   ],
   "source": [
    "train.head()"
   ]
  },
  {
   "cell_type": "code",
   "execution_count": 7,
   "id": "ed31cb77",
   "metadata": {
    "execution": {
     "iopub.execute_input": "2023-03-20T10:18:29.992284Z",
     "iopub.status.busy": "2023-03-20T10:18:29.991811Z",
     "iopub.status.idle": "2023-03-20T10:18:30.025276Z",
     "shell.execute_reply": "2023-03-20T10:18:30.023854Z"
    },
    "papermill": {
     "duration": 0.048687,
     "end_time": "2023-03-20T10:18:30.027849",
     "exception": false,
     "start_time": "2023-03-20T10:18:29.979162",
     "status": "completed"
    },
    "tags": []
   },
   "outputs": [
    {
     "data": {
      "text/html": [
       "<div>\n",
       "<style scoped>\n",
       "    .dataframe tbody tr th:only-of-type {\n",
       "        vertical-align: middle;\n",
       "    }\n",
       "\n",
       "    .dataframe tbody tr th {\n",
       "        vertical-align: top;\n",
       "    }\n",
       "\n",
       "    .dataframe thead th {\n",
       "        text-align: right;\n",
       "    }\n",
       "</style>\n",
       "<table border=\"1\" class=\"dataframe\">\n",
       "  <thead>\n",
       "    <tr style=\"text-align: right;\">\n",
       "      <th></th>\n",
       "      <th>HomePage</th>\n",
       "      <th>HomePage_Duration</th>\n",
       "      <th>LandingPage</th>\n",
       "      <th>LandingPage_Duration</th>\n",
       "      <th>ProductDescriptionPage</th>\n",
       "      <th>ProductDescriptionPage_Duration</th>\n",
       "      <th>GoogleMetric:Bounce Rates</th>\n",
       "      <th>GoogleMetric:Exit Rates</th>\n",
       "      <th>GoogleMetric:Page Values</th>\n",
       "      <th>SeasonalPurchase</th>\n",
       "      <th>...</th>\n",
       "      <th>OS</th>\n",
       "      <th>SearchEngine</th>\n",
       "      <th>Zone</th>\n",
       "      <th>Type of Traffic</th>\n",
       "      <th>CustomerType</th>\n",
       "      <th>Gender</th>\n",
       "      <th>Cookies Setting</th>\n",
       "      <th>Education</th>\n",
       "      <th>Marital Status</th>\n",
       "      <th>WeekendPurchase</th>\n",
       "    </tr>\n",
       "  </thead>\n",
       "  <tbody>\n",
       "    <tr>\n",
       "      <th>0</th>\n",
       "      <td>0.0</td>\n",
       "      <td>0.0</td>\n",
       "      <td>0.0</td>\n",
       "      <td>0.0</td>\n",
       "      <td>1.0</td>\n",
       "      <td>0.000000</td>\n",
       "      <td>0.200000</td>\n",
       "      <td>0.200000</td>\n",
       "      <td>0.0</td>\n",
       "      <td>0.0</td>\n",
       "      <td>...</td>\n",
       "      <td>1.0</td>\n",
       "      <td>1.0</td>\n",
       "      <td>1.0</td>\n",
       "      <td>1.0</td>\n",
       "      <td>Returning_Visitor</td>\n",
       "      <td>Not Specified</td>\n",
       "      <td>Deny</td>\n",
       "      <td>Not Specified</td>\n",
       "      <td>Single</td>\n",
       "      <td>0.0</td>\n",
       "    </tr>\n",
       "    <tr>\n",
       "      <th>1</th>\n",
       "      <td>0.0</td>\n",
       "      <td>0.0</td>\n",
       "      <td>0.0</td>\n",
       "      <td>0.0</td>\n",
       "      <td>2.0</td>\n",
       "      <td>64.000000</td>\n",
       "      <td>0.000000</td>\n",
       "      <td>0.100000</td>\n",
       "      <td>0.0</td>\n",
       "      <td>0.0</td>\n",
       "      <td>...</td>\n",
       "      <td>2.0</td>\n",
       "      <td>2.0</td>\n",
       "      <td>1.0</td>\n",
       "      <td>2.0</td>\n",
       "      <td>Returning_Visitor</td>\n",
       "      <td>Not Specified</td>\n",
       "      <td>ALL</td>\n",
       "      <td>Graduate</td>\n",
       "      <td>Married</td>\n",
       "      <td>0.0</td>\n",
       "    </tr>\n",
       "    <tr>\n",
       "      <th>2</th>\n",
       "      <td>0.0</td>\n",
       "      <td>0.0</td>\n",
       "      <td>0.0</td>\n",
       "      <td>0.0</td>\n",
       "      <td>19.0</td>\n",
       "      <td>154.216667</td>\n",
       "      <td>0.015789</td>\n",
       "      <td>0.024561</td>\n",
       "      <td>0.0</td>\n",
       "      <td>0.0</td>\n",
       "      <td>...</td>\n",
       "      <td>2.0</td>\n",
       "      <td>2.0</td>\n",
       "      <td>1.0</td>\n",
       "      <td>3.0</td>\n",
       "      <td>Returning_Visitor</td>\n",
       "      <td>Female</td>\n",
       "      <td>Required</td>\n",
       "      <td>Diploma</td>\n",
       "      <td>Other</td>\n",
       "      <td>0.0</td>\n",
       "    </tr>\n",
       "    <tr>\n",
       "      <th>3</th>\n",
       "      <td>0.0</td>\n",
       "      <td>0.0</td>\n",
       "      <td>0.0</td>\n",
       "      <td>0.0</td>\n",
       "      <td>2.0</td>\n",
       "      <td>37.000000</td>\n",
       "      <td>0.000000</td>\n",
       "      <td>0.100000</td>\n",
       "      <td>0.0</td>\n",
       "      <td>0.8</td>\n",
       "      <td>...</td>\n",
       "      <td>2.0</td>\n",
       "      <td>2.0</td>\n",
       "      <td>2.0</td>\n",
       "      <td>3.0</td>\n",
       "      <td>Returning_Visitor</td>\n",
       "      <td>Not Specified</td>\n",
       "      <td>Required</td>\n",
       "      <td>Graduate</td>\n",
       "      <td>Other</td>\n",
       "      <td>0.0</td>\n",
       "    </tr>\n",
       "    <tr>\n",
       "      <th>4</th>\n",
       "      <td>0.0</td>\n",
       "      <td>0.0</td>\n",
       "      <td>0.0</td>\n",
       "      <td>0.0</td>\n",
       "      <td>16.0</td>\n",
       "      <td>407.750000</td>\n",
       "      <td>0.018750</td>\n",
       "      <td>0.025833</td>\n",
       "      <td>0.0</td>\n",
       "      <td>0.4</td>\n",
       "      <td>...</td>\n",
       "      <td>1.0</td>\n",
       "      <td>1.0</td>\n",
       "      <td>4.0</td>\n",
       "      <td>3.0</td>\n",
       "      <td>Returning_Visitor</td>\n",
       "      <td>Female</td>\n",
       "      <td>Deny</td>\n",
       "      <td>Others</td>\n",
       "      <td>Other</td>\n",
       "      <td>0.0</td>\n",
       "    </tr>\n",
       "  </tbody>\n",
       "</table>\n",
       "<p>5 rows × 21 columns</p>\n",
       "</div>"
      ],
      "text/plain": [
       "   HomePage  HomePage_Duration  LandingPage  LandingPage_Duration  \\\n",
       "0       0.0                0.0          0.0                   0.0   \n",
       "1       0.0                0.0          0.0                   0.0   \n",
       "2       0.0                0.0          0.0                   0.0   \n",
       "3       0.0                0.0          0.0                   0.0   \n",
       "4       0.0                0.0          0.0                   0.0   \n",
       "\n",
       "   ProductDescriptionPage  ProductDescriptionPage_Duration  \\\n",
       "0                     1.0                         0.000000   \n",
       "1                     2.0                        64.000000   \n",
       "2                    19.0                       154.216667   \n",
       "3                     2.0                        37.000000   \n",
       "4                    16.0                       407.750000   \n",
       "\n",
       "   GoogleMetric:Bounce Rates  GoogleMetric:Exit Rates  \\\n",
       "0                   0.200000                 0.200000   \n",
       "1                   0.000000                 0.100000   \n",
       "2                   0.015789                 0.024561   \n",
       "3                   0.000000                 0.100000   \n",
       "4                   0.018750                 0.025833   \n",
       "\n",
       "   GoogleMetric:Page Values  SeasonalPurchase  ...   OS  SearchEngine  Zone  \\\n",
       "0                       0.0               0.0  ...  1.0           1.0   1.0   \n",
       "1                       0.0               0.0  ...  2.0           2.0   1.0   \n",
       "2                       0.0               0.0  ...  2.0           2.0   1.0   \n",
       "3                       0.0               0.8  ...  2.0           2.0   2.0   \n",
       "4                       0.0               0.4  ...  1.0           1.0   4.0   \n",
       "\n",
       "   Type of Traffic       CustomerType         Gender Cookies Setting  \\\n",
       "0              1.0  Returning_Visitor  Not Specified            Deny   \n",
       "1              2.0  Returning_Visitor  Not Specified             ALL   \n",
       "2              3.0  Returning_Visitor         Female        Required   \n",
       "3              3.0  Returning_Visitor  Not Specified        Required   \n",
       "4              3.0  Returning_Visitor         Female            Deny   \n",
       "\n",
       "       Education Marital Status WeekendPurchase  \n",
       "0  Not Specified         Single             0.0  \n",
       "1       Graduate        Married             0.0  \n",
       "2        Diploma          Other             0.0  \n",
       "3       Graduate          Other             0.0  \n",
       "4         Others          Other             0.0  \n",
       "\n",
       "[5 rows x 21 columns]"
      ]
     },
     "execution_count": 7,
     "metadata": {},
     "output_type": "execute_result"
    }
   ],
   "source": [
    "test.head()"
   ]
  },
  {
   "cell_type": "code",
   "execution_count": 8,
   "id": "0758d20a",
   "metadata": {
    "execution": {
     "iopub.execute_input": "2023-03-20T10:18:30.052488Z",
     "iopub.status.busy": "2023-03-20T10:18:30.051774Z",
     "iopub.status.idle": "2023-03-20T10:18:30.063071Z",
     "shell.execute_reply": "2023-03-20T10:18:30.061646Z"
    },
    "papermill": {
     "duration": 0.026574,
     "end_time": "2023-03-20T10:18:30.065541",
     "exception": false,
     "start_time": "2023-03-20T10:18:30.038967",
     "status": "completed"
    },
    "tags": []
   },
   "outputs": [
    {
     "data": {
      "text/html": [
       "<div>\n",
       "<style scoped>\n",
       "    .dataframe tbody tr th:only-of-type {\n",
       "        vertical-align: middle;\n",
       "    }\n",
       "\n",
       "    .dataframe tbody tr th {\n",
       "        vertical-align: top;\n",
       "    }\n",
       "\n",
       "    .dataframe thead th {\n",
       "        text-align: right;\n",
       "    }\n",
       "</style>\n",
       "<table border=\"1\" class=\"dataframe\">\n",
       "  <thead>\n",
       "    <tr style=\"text-align: right;\">\n",
       "      <th></th>\n",
       "      <th>id</th>\n",
       "      <th>Made_Purchase</th>\n",
       "    </tr>\n",
       "  </thead>\n",
       "  <tbody>\n",
       "    <tr>\n",
       "      <th>0</th>\n",
       "      <td>0</td>\n",
       "      <td>False</td>\n",
       "    </tr>\n",
       "    <tr>\n",
       "      <th>1</th>\n",
       "      <td>1</td>\n",
       "      <td>False</td>\n",
       "    </tr>\n",
       "    <tr>\n",
       "      <th>2</th>\n",
       "      <td>2</td>\n",
       "      <td>False</td>\n",
       "    </tr>\n",
       "    <tr>\n",
       "      <th>3</th>\n",
       "      <td>3</td>\n",
       "      <td>False</td>\n",
       "    </tr>\n",
       "    <tr>\n",
       "      <th>4</th>\n",
       "      <td>4</td>\n",
       "      <td>False</td>\n",
       "    </tr>\n",
       "  </tbody>\n",
       "</table>\n",
       "</div>"
      ],
      "text/plain": [
       "   id  Made_Purchase\n",
       "0   0          False\n",
       "1   1          False\n",
       "2   2          False\n",
       "3   3          False\n",
       "4   4          False"
      ]
     },
     "execution_count": 8,
     "metadata": {},
     "output_type": "execute_result"
    }
   ],
   "source": [
    "sample.head()"
   ]
  },
  {
   "cell_type": "code",
   "execution_count": 9,
   "id": "7bf39f3b",
   "metadata": {
    "execution": {
     "iopub.execute_input": "2023-03-20T10:18:30.090577Z",
     "iopub.status.busy": "2023-03-20T10:18:30.089889Z",
     "iopub.status.idle": "2023-03-20T10:18:30.171831Z",
     "shell.execute_reply": "2023-03-20T10:18:30.170311Z"
    },
    "papermill": {
     "duration": 0.097463,
     "end_time": "2023-03-20T10:18:30.174288",
     "exception": false,
     "start_time": "2023-03-20T10:18:30.076825",
     "status": "completed"
    },
    "tags": []
   },
   "outputs": [
    {
     "data": {
      "text/html": [
       "<div>\n",
       "<style scoped>\n",
       "    .dataframe tbody tr th:only-of-type {\n",
       "        vertical-align: middle;\n",
       "    }\n",
       "\n",
       "    .dataframe tbody tr th {\n",
       "        vertical-align: top;\n",
       "    }\n",
       "\n",
       "    .dataframe thead th {\n",
       "        text-align: right;\n",
       "    }\n",
       "</style>\n",
       "<table border=\"1\" class=\"dataframe\">\n",
       "  <thead>\n",
       "    <tr style=\"text-align: right;\">\n",
       "      <th></th>\n",
       "      <th>HomePage</th>\n",
       "      <th>HomePage_Duration</th>\n",
       "      <th>LandingPage</th>\n",
       "      <th>LandingPage_Duration</th>\n",
       "      <th>ProductDescriptionPage</th>\n",
       "      <th>ProductDescriptionPage_Duration</th>\n",
       "      <th>GoogleMetric:Bounce Rates</th>\n",
       "      <th>GoogleMetric:Exit Rates</th>\n",
       "      <th>GoogleMetric:Page Values</th>\n",
       "      <th>SeasonalPurchase</th>\n",
       "      <th>OS</th>\n",
       "      <th>SearchEngine</th>\n",
       "      <th>Zone</th>\n",
       "      <th>Type of Traffic</th>\n",
       "      <th>WeekendPurchase</th>\n",
       "    </tr>\n",
       "  </thead>\n",
       "  <tbody>\n",
       "    <tr>\n",
       "      <th>count</th>\n",
       "      <td>14578.000000</td>\n",
       "      <td>14581.000000</td>\n",
       "      <td>14578.000000</td>\n",
       "      <td>14596.000000</td>\n",
       "      <td>14608.000000</td>\n",
       "      <td>14564.000000</td>\n",
       "      <td>14580.000000</td>\n",
       "      <td>14602.000000</td>\n",
       "      <td>14599.000000</td>\n",
       "      <td>14581.000000</td>\n",
       "      <td>14597.000000</td>\n",
       "      <td>14609.000000</td>\n",
       "      <td>14614.000000</td>\n",
       "      <td>14588.000000</td>\n",
       "      <td>14610.000000</td>\n",
       "    </tr>\n",
       "    <tr>\n",
       "      <th>mean</th>\n",
       "      <td>2.250240</td>\n",
       "      <td>79.300762</td>\n",
       "      <td>0.490739</td>\n",
       "      <td>33.455943</td>\n",
       "      <td>31.559488</td>\n",
       "      <td>1184.346084</td>\n",
       "      <td>0.023366</td>\n",
       "      <td>0.044664</td>\n",
       "      <td>4.812620</td>\n",
       "      <td>0.064083</td>\n",
       "      <td>2.122422</td>\n",
       "      <td>2.356629</td>\n",
       "      <td>3.155673</td>\n",
       "      <td>4.090143</td>\n",
       "      <td>0.234155</td>\n",
       "    </tr>\n",
       "    <tr>\n",
       "      <th>std</th>\n",
       "      <td>3.288042</td>\n",
       "      <td>179.374699</td>\n",
       "      <td>1.252376</td>\n",
       "      <td>140.146256</td>\n",
       "      <td>44.897089</td>\n",
       "      <td>2009.496307</td>\n",
       "      <td>0.050011</td>\n",
       "      <td>0.049912</td>\n",
       "      <td>16.887366</td>\n",
       "      <td>0.202583</td>\n",
       "      <td>0.914404</td>\n",
       "      <td>1.721823</td>\n",
       "      <td>2.405155</td>\n",
       "      <td>4.040147</td>\n",
       "      <td>0.423484</td>\n",
       "    </tr>\n",
       "    <tr>\n",
       "      <th>min</th>\n",
       "      <td>0.000000</td>\n",
       "      <td>0.000000</td>\n",
       "      <td>0.000000</td>\n",
       "      <td>0.000000</td>\n",
       "      <td>0.000000</td>\n",
       "      <td>0.000000</td>\n",
       "      <td>0.000000</td>\n",
       "      <td>0.000000</td>\n",
       "      <td>0.000000</td>\n",
       "      <td>0.000000</td>\n",
       "      <td>1.000000</td>\n",
       "      <td>1.000000</td>\n",
       "      <td>1.000000</td>\n",
       "      <td>1.000000</td>\n",
       "      <td>0.000000</td>\n",
       "    </tr>\n",
       "    <tr>\n",
       "      <th>25%</th>\n",
       "      <td>0.000000</td>\n",
       "      <td>0.000000</td>\n",
       "      <td>0.000000</td>\n",
       "      <td>0.000000</td>\n",
       "      <td>7.000000</td>\n",
       "      <td>173.187500</td>\n",
       "      <td>0.000000</td>\n",
       "      <td>0.014502</td>\n",
       "      <td>0.000000</td>\n",
       "      <td>0.000000</td>\n",
       "      <td>2.000000</td>\n",
       "      <td>2.000000</td>\n",
       "      <td>1.000000</td>\n",
       "      <td>2.000000</td>\n",
       "      <td>0.000000</td>\n",
       "    </tr>\n",
       "    <tr>\n",
       "      <th>50%</th>\n",
       "      <td>1.000000</td>\n",
       "      <td>5.000000</td>\n",
       "      <td>0.000000</td>\n",
       "      <td>0.000000</td>\n",
       "      <td>17.500000</td>\n",
       "      <td>584.333333</td>\n",
       "      <td>0.003478</td>\n",
       "      <td>0.026406</td>\n",
       "      <td>0.000000</td>\n",
       "      <td>0.000000</td>\n",
       "      <td>2.000000</td>\n",
       "      <td>2.000000</td>\n",
       "      <td>3.000000</td>\n",
       "      <td>2.000000</td>\n",
       "      <td>0.000000</td>\n",
       "    </tr>\n",
       "    <tr>\n",
       "      <th>75%</th>\n",
       "      <td>3.000000</td>\n",
       "      <td>91.000000</td>\n",
       "      <td>0.000000</td>\n",
       "      <td>0.000000</td>\n",
       "      <td>38.000000</td>\n",
       "      <td>1434.255128</td>\n",
       "      <td>0.018182</td>\n",
       "      <td>0.050000</td>\n",
       "      <td>0.000000</td>\n",
       "      <td>0.000000</td>\n",
       "      <td>3.000000</td>\n",
       "      <td>2.000000</td>\n",
       "      <td>4.000000</td>\n",
       "      <td>4.000000</td>\n",
       "      <td>0.000000</td>\n",
       "    </tr>\n",
       "    <tr>\n",
       "      <th>max</th>\n",
       "      <td>27.000000</td>\n",
       "      <td>3398.750000</td>\n",
       "      <td>24.000000</td>\n",
       "      <td>2549.375000</td>\n",
       "      <td>705.000000</td>\n",
       "      <td>63973.522230</td>\n",
       "      <td>0.200000</td>\n",
       "      <td>0.200000</td>\n",
       "      <td>361.763742</td>\n",
       "      <td>1.000000</td>\n",
       "      <td>8.000000</td>\n",
       "      <td>13.000000</td>\n",
       "      <td>9.000000</td>\n",
       "      <td>20.000000</td>\n",
       "      <td>1.000000</td>\n",
       "    </tr>\n",
       "  </tbody>\n",
       "</table>\n",
       "</div>"
      ],
      "text/plain": [
       "           HomePage  HomePage_Duration   LandingPage  LandingPage_Duration  \\\n",
       "count  14578.000000       14581.000000  14578.000000          14596.000000   \n",
       "mean       2.250240          79.300762      0.490739             33.455943   \n",
       "std        3.288042         179.374699      1.252376            140.146256   \n",
       "min        0.000000           0.000000      0.000000              0.000000   \n",
       "25%        0.000000           0.000000      0.000000              0.000000   \n",
       "50%        1.000000           5.000000      0.000000              0.000000   \n",
       "75%        3.000000          91.000000      0.000000              0.000000   \n",
       "max       27.000000        3398.750000     24.000000           2549.375000   \n",
       "\n",
       "       ProductDescriptionPage  ProductDescriptionPage_Duration  \\\n",
       "count            14608.000000                     14564.000000   \n",
       "mean                31.559488                      1184.346084   \n",
       "std                 44.897089                      2009.496307   \n",
       "min                  0.000000                         0.000000   \n",
       "25%                  7.000000                       173.187500   \n",
       "50%                 17.500000                       584.333333   \n",
       "75%                 38.000000                      1434.255128   \n",
       "max                705.000000                     63973.522230   \n",
       "\n",
       "       GoogleMetric:Bounce Rates  GoogleMetric:Exit Rates  \\\n",
       "count               14580.000000             14602.000000   \n",
       "mean                    0.023366                 0.044664   \n",
       "std                     0.050011                 0.049912   \n",
       "min                     0.000000                 0.000000   \n",
       "25%                     0.000000                 0.014502   \n",
       "50%                     0.003478                 0.026406   \n",
       "75%                     0.018182                 0.050000   \n",
       "max                     0.200000                 0.200000   \n",
       "\n",
       "       GoogleMetric:Page Values  SeasonalPurchase            OS  SearchEngine  \\\n",
       "count              14599.000000      14581.000000  14597.000000  14609.000000   \n",
       "mean                   4.812620          0.064083      2.122422      2.356629   \n",
       "std                   16.887366          0.202583      0.914404      1.721823   \n",
       "min                    0.000000          0.000000      1.000000      1.000000   \n",
       "25%                    0.000000          0.000000      2.000000      2.000000   \n",
       "50%                    0.000000          0.000000      2.000000      2.000000   \n",
       "75%                    0.000000          0.000000      3.000000      2.000000   \n",
       "max                  361.763742          1.000000      8.000000     13.000000   \n",
       "\n",
       "               Zone  Type of Traffic  WeekendPurchase  \n",
       "count  14614.000000     14588.000000     14610.000000  \n",
       "mean       3.155673         4.090143         0.234155  \n",
       "std        2.405155         4.040147         0.423484  \n",
       "min        1.000000         1.000000         0.000000  \n",
       "25%        1.000000         2.000000         0.000000  \n",
       "50%        3.000000         2.000000         0.000000  \n",
       "75%        4.000000         4.000000         0.000000  \n",
       "max        9.000000        20.000000         1.000000  "
      ]
     },
     "execution_count": 9,
     "metadata": {},
     "output_type": "execute_result"
    }
   ],
   "source": [
    "train.describe()"
   ]
  },
  {
   "cell_type": "code",
   "execution_count": 10,
   "id": "717a7d53",
   "metadata": {
    "execution": {
     "iopub.execute_input": "2023-03-20T10:18:30.198988Z",
     "iopub.status.busy": "2023-03-20T10:18:30.198514Z",
     "iopub.status.idle": "2023-03-20T10:18:30.223140Z",
     "shell.execute_reply": "2023-03-20T10:18:30.221745Z"
    },
    "papermill": {
     "duration": 0.040539,
     "end_time": "2023-03-20T10:18:30.226143",
     "exception": false,
     "start_time": "2023-03-20T10:18:30.185604",
     "status": "completed"
    },
    "tags": []
   },
   "outputs": [
    {
     "name": "stdout",
     "output_type": "stream",
     "text": [
      "<class 'pandas.core.frame.DataFrame'>\n",
      "RangeIndex: 14731 entries, 0 to 14730\n",
      "Data columns (total 22 columns):\n",
      " #   Column                           Non-Null Count  Dtype  \n",
      "---  ------                           --------------  -----  \n",
      " 0   HomePage                         14578 non-null  float64\n",
      " 1   HomePage_Duration                14581 non-null  float64\n",
      " 2   LandingPage                      14578 non-null  float64\n",
      " 3   LandingPage_Duration             14596 non-null  float64\n",
      " 4   ProductDescriptionPage           14608 non-null  float64\n",
      " 5   ProductDescriptionPage_Duration  14564 non-null  float64\n",
      " 6   GoogleMetric:Bounce Rates        14580 non-null  float64\n",
      " 7   GoogleMetric:Exit Rates          14602 non-null  float64\n",
      " 8   GoogleMetric:Page Values         14599 non-null  float64\n",
      " 9   SeasonalPurchase                 14581 non-null  float64\n",
      " 10  Month_SeasonalPurchase           14587 non-null  object \n",
      " 11  OS                               14597 non-null  float64\n",
      " 12  SearchEngine                     14609 non-null  float64\n",
      " 13  Zone                             14614 non-null  float64\n",
      " 14  Type of Traffic                  14588 non-null  float64\n",
      " 15  CustomerType                     14587 non-null  object \n",
      " 16  Gender                           14586 non-null  object \n",
      " 17  Cookies Setting                  14587 non-null  object \n",
      " 18  Education                        14595 non-null  object \n",
      " 19  Marital Status                   14601 non-null  object \n",
      " 20  WeekendPurchase                  14610 non-null  float64\n",
      " 21  Made_Purchase                    14731 non-null  bool   \n",
      "dtypes: bool(1), float64(15), object(6)\n",
      "memory usage: 2.4+ MB\n"
     ]
    }
   ],
   "source": [
    "train.info()"
   ]
  },
  {
   "cell_type": "code",
   "execution_count": 11,
   "id": "e5e62127",
   "metadata": {
    "execution": {
     "iopub.execute_input": "2023-03-20T10:18:30.251603Z",
     "iopub.status.busy": "2023-03-20T10:18:30.250946Z",
     "iopub.status.idle": "2023-03-20T10:18:32.051345Z",
     "shell.execute_reply": "2023-03-20T10:18:32.049923Z"
    },
    "papermill": {
     "duration": 1.817744,
     "end_time": "2023-03-20T10:18:32.055636",
     "exception": false,
     "start_time": "2023-03-20T10:18:30.237892",
     "status": "completed"
    },
    "tags": []
   },
   "outputs": [
    {
     "data": {
      "text/plain": [
       "<AxesSubplot:>"
      ]
     },
     "execution_count": 11,
     "metadata": {},
     "output_type": "execute_result"
    },
    {
     "data": {
      "image/png": "[encoded data removed]",
      "text/plain": [
       "<Figure size 1224x1224 with 2 Axes>"
      ]
     },
     "metadata": {},
     "output_type": "display_data"
    }
   ],
   "source": [
    "plt.figure(figsize=(17,17))\n",
    "correlation = train.corr()\n",
    "sns.heatmap(abs(correlation), annot=True)"
   ]
  },
  {
   "cell_type": "code",
   "execution_count": 12,
   "id": "39b6e295",
   "metadata": {
    "execution": {
     "iopub.execute_input": "2023-03-20T10:18:32.089189Z",
     "iopub.status.busy": "2023-03-20T10:18:32.088700Z",
     "iopub.status.idle": "2023-03-20T10:18:36.556042Z",
     "shell.execute_reply": "2023-03-20T10:18:36.554750Z"
    },
    "papermill": {
     "duration": 4.487877,
     "end_time": "2023-03-20T10:18:36.559179",
     "exception": false,
     "start_time": "2023-03-20T10:18:32.071302",
     "status": "completed"
    },
    "tags": []
   },
   "outputs": [
    {
     "data": {
      "text/plain": [
       "array([[<AxesSubplot:title={'center':'HomePage'}>,\n",
       "        <AxesSubplot:title={'center':'HomePage_Duration'}>,\n",
       "        <AxesSubplot:title={'center':'LandingPage'}>,\n",
       "        <AxesSubplot:title={'center':'LandingPage_Duration'}>],\n",
       "       [<AxesSubplot:title={'center':'ProductDescriptionPage'}>,\n",
       "        <AxesSubplot:title={'center':'ProductDescriptionPage_Duration'}>,\n",
       "        <AxesSubplot:title={'center':'GoogleMetric:Bounce Rates'}>,\n",
       "        <AxesSubplot:title={'center':'GoogleMetric:Exit Rates'}>],\n",
       "       [<AxesSubplot:title={'center':'GoogleMetric:Page Values'}>,\n",
       "        <AxesSubplot:title={'center':'SeasonalPurchase'}>,\n",
       "        <AxesSubplot:title={'center':'OS'}>,\n",
       "        <AxesSubplot:title={'center':'SearchEngine'}>],\n",
       "       [<AxesSubplot:title={'center':'Zone'}>,\n",
       "        <AxesSubplot:title={'center':'Type of Traffic'}>,\n",
       "        <AxesSubplot:title={'center':'WeekendPurchase'}>, <AxesSubplot:>]],\n",
       "      dtype=object)"
      ]
     },
     "execution_count": 12,
     "metadata": {},
     "output_type": "execute_result"
    },
    {
     "data": {
      "image/png": "[encoded data removed]",
      "text/plain": [
       "<Figure size 1224x1224 with 16 Axes>"
      ]
     },
     "metadata": {},
     "output_type": "display_data"
    }
   ],
   "source": [
    "train.hist(bins=50, figsize=(17,17))"
   ]
  },
  {
   "cell_type": "code",
   "execution_count": 13,
   "id": "4799b3b0",
   "metadata": {
    "execution": {
     "iopub.execute_input": "2023-03-20T10:18:36.594611Z",
     "iopub.status.busy": "2023-03-20T10:18:36.594167Z",
     "iopub.status.idle": "2023-03-20T10:18:36.801377Z",
     "shell.execute_reply": "2023-03-20T10:18:36.800220Z"
    },
    "papermill": {
     "duration": 0.22828,
     "end_time": "2023-03-20T10:18:36.804274",
     "exception": false,
     "start_time": "2023-03-20T10:18:36.575994",
     "status": "completed"
    },
    "tags": []
   },
   "outputs": [
    {
     "data": {
      "text/plain": [
       "<AxesSubplot:xlabel='Made_Purchase', ylabel='count'>"
      ]
     },
     "execution_count": 13,
     "metadata": {},
     "output_type": "execute_result"
    },
    {
     "data": {
      "image/png": "[encoded data removed]",
      "text/plain": [
       "<Figure size 432x288 with 1 Axes>"
      ]
     },
     "metadata": {},
     "output_type": "display_data"
    }
   ],
   "source": [
    "sns.set_style('whitegrid')\n",
    "sns.countplot(x='Made_Purchase', data=train, palette='RdBu_r')"
   ]
  },
  {
   "cell_type": "code",
   "execution_count": 14,
   "id": "b433a1cf",
   "metadata": {
    "execution": {
     "iopub.execute_input": "2023-03-20T10:18:36.839518Z",
     "iopub.status.busy": "2023-03-20T10:18:36.839068Z",
     "iopub.status.idle": "2023-03-20T10:18:36.855002Z",
     "shell.execute_reply": "2023-03-20T10:18:36.853658Z"
    },
    "papermill": {
     "duration": 0.036529,
     "end_time": "2023-03-20T10:18:36.857526",
     "exception": false,
     "start_time": "2023-03-20T10:18:36.820997",
     "status": "completed"
    },
    "tags": []
   },
   "outputs": [
    {
     "data": {
      "text/plain": [
       "HomePage                           153\n",
       "HomePage_Duration                  150\n",
       "LandingPage                        153\n",
       "LandingPage_Duration               135\n",
       "ProductDescriptionPage             123\n",
       "ProductDescriptionPage_Duration    167\n",
       "GoogleMetric:Bounce Rates          151\n",
       "GoogleMetric:Exit Rates            129\n",
       "GoogleMetric:Page Values           132\n",
       "SeasonalPurchase                   150\n",
       "Month_SeasonalPurchase             144\n",
       "OS                                 134\n",
       "SearchEngine                       122\n",
       "Zone                               117\n",
       "Type of Traffic                    143\n",
       "CustomerType                       144\n",
       "Gender                             145\n",
       "Cookies Setting                    144\n",
       "Education                          136\n",
       "Marital Status                     130\n",
       "WeekendPurchase                    121\n",
       "Made_Purchase                        0\n",
       "dtype: int64"
      ]
     },
     "execution_count": 14,
     "metadata": {},
     "output_type": "execute_result"
    }
   ],
   "source": [
    "train.isnull().sum()"
   ]
  },
  {
   "cell_type": "code",
   "execution_count": 15,
   "id": "2cd22106",
   "metadata": {
    "execution": {
     "iopub.execute_input": "2023-03-20T10:18:36.893049Z",
     "iopub.status.busy": "2023-03-20T10:18:36.892568Z",
     "iopub.status.idle": "2023-03-20T10:18:36.905356Z",
     "shell.execute_reply": "2023-03-20T10:18:36.904212Z"
    },
    "papermill": {
     "duration": 0.033226,
     "end_time": "2023-03-20T10:18:36.907445",
     "exception": false,
     "start_time": "2023-03-20T10:18:36.874219",
     "status": "completed"
    },
    "tags": []
   },
   "outputs": [
    {
     "data": {
      "text/plain": [
       "HomePage                           51\n",
       "HomePage_Duration                  55\n",
       "LandingPage                        56\n",
       "LandingPage_Duration               75\n",
       "ProductDescriptionPage             58\n",
       "ProductDescriptionPage_Duration    63\n",
       "GoogleMetric:Bounce Rates          66\n",
       "GoogleMetric:Exit Rates            51\n",
       "GoogleMetric:Page Values           45\n",
       "SeasonalPurchase                   45\n",
       "Month_SeasonalPurchase             58\n",
       "OS                                 62\n",
       "SearchEngine                       58\n",
       "Zone                               47\n",
       "Type of Traffic                    68\n",
       "CustomerType                       88\n",
       "Gender                             64\n",
       "Cookies Setting                    62\n",
       "Education                          69\n",
       "Marital Status                     47\n",
       "WeekendPurchase                    58\n",
       "dtype: int64"
      ]
     },
     "execution_count": 15,
     "metadata": {},
     "output_type": "execute_result"
    }
   ],
   "source": [
    "test.isnull().sum()"
   ]
  },
  {
   "cell_type": "code",
   "execution_count": 16,
   "id": "7ef0e5d9",
   "metadata": {
    "execution": {
     "iopub.execute_input": "2023-03-20T10:18:36.943284Z",
     "iopub.status.busy": "2023-03-20T10:18:36.942525Z",
     "iopub.status.idle": "2023-03-20T10:18:36.975896Z",
     "shell.execute_reply": "2023-03-20T10:18:36.974786Z"
    },
    "papermill": {
     "duration": 0.054407,
     "end_time": "2023-03-20T10:18:36.978529",
     "exception": false,
     "start_time": "2023-03-20T10:18:36.924122",
     "status": "completed"
    },
    "tags": []
   },
   "outputs": [
    {
     "data": {
      "text/html": [
       "<div>\n",
       "<style scoped>\n",
       "    .dataframe tbody tr th:only-of-type {\n",
       "        vertical-align: middle;\n",
       "    }\n",
       "\n",
       "    .dataframe tbody tr th {\n",
       "        vertical-align: top;\n",
       "    }\n",
       "\n",
       "    .dataframe thead th {\n",
       "        text-align: right;\n",
       "    }\n",
       "</style>\n",
       "<table border=\"1\" class=\"dataframe\">\n",
       "  <thead>\n",
       "    <tr style=\"text-align: right;\">\n",
       "      <th></th>\n",
       "      <th>HomePage</th>\n",
       "      <th>HomePage_Duration</th>\n",
       "      <th>LandingPage</th>\n",
       "      <th>LandingPage_Duration</th>\n",
       "      <th>ProductDescriptionPage</th>\n",
       "      <th>ProductDescriptionPage_Duration</th>\n",
       "      <th>GoogleMetric:Bounce Rates</th>\n",
       "      <th>GoogleMetric:Exit Rates</th>\n",
       "      <th>GoogleMetric:Page Values</th>\n",
       "      <th>SeasonalPurchase</th>\n",
       "      <th>...</th>\n",
       "      <th>OS</th>\n",
       "      <th>SearchEngine</th>\n",
       "      <th>Zone</th>\n",
       "      <th>Type of Traffic</th>\n",
       "      <th>CustomerType</th>\n",
       "      <th>Gender</th>\n",
       "      <th>Cookies Setting</th>\n",
       "      <th>Education</th>\n",
       "      <th>Marital Status</th>\n",
       "      <th>WeekendPurchase</th>\n",
       "    </tr>\n",
       "  </thead>\n",
       "  <tbody>\n",
       "    <tr>\n",
       "      <th>0</th>\n",
       "      <td>0.0</td>\n",
       "      <td>0.0</td>\n",
       "      <td>0.0</td>\n",
       "      <td>0.0</td>\n",
       "      <td>1.0</td>\n",
       "      <td>0.000000</td>\n",
       "      <td>0.20</td>\n",
       "      <td>0.20</td>\n",
       "      <td>0.0</td>\n",
       "      <td>0.0</td>\n",
       "      <td>...</td>\n",
       "      <td>4.0</td>\n",
       "      <td>1.0</td>\n",
       "      <td>9.0</td>\n",
       "      <td>3.0</td>\n",
       "      <td>Returning_Visitor</td>\n",
       "      <td>Not Specified</td>\n",
       "      <td>Deny</td>\n",
       "      <td>Not Specified</td>\n",
       "      <td>Other</td>\n",
       "      <td>0.0</td>\n",
       "    </tr>\n",
       "    <tr>\n",
       "      <th>1</th>\n",
       "      <td>0.0</td>\n",
       "      <td>0.0</td>\n",
       "      <td>0.0</td>\n",
       "      <td>0.0</td>\n",
       "      <td>2.0</td>\n",
       "      <td>2.666667</td>\n",
       "      <td>0.05</td>\n",
       "      <td>0.14</td>\n",
       "      <td>0.0</td>\n",
       "      <td>0.0</td>\n",
       "      <td>...</td>\n",
       "      <td>3.0</td>\n",
       "      <td>2.0</td>\n",
       "      <td>2.0</td>\n",
       "      <td>4.0</td>\n",
       "      <td>Returning_Visitor</td>\n",
       "      <td>Female</td>\n",
       "      <td>Deny</td>\n",
       "      <td>Others</td>\n",
       "      <td>Married</td>\n",
       "      <td>0.0</td>\n",
       "    </tr>\n",
       "    <tr>\n",
       "      <th>2</th>\n",
       "      <td>0.0</td>\n",
       "      <td>0.0</td>\n",
       "      <td>0.0</td>\n",
       "      <td>0.0</td>\n",
       "      <td>10.0</td>\n",
       "      <td>627.500000</td>\n",
       "      <td>0.02</td>\n",
       "      <td>0.05</td>\n",
       "      <td>0.0</td>\n",
       "      <td>0.0</td>\n",
       "      <td>...</td>\n",
       "      <td>3.0</td>\n",
       "      <td>3.0</td>\n",
       "      <td>1.0</td>\n",
       "      <td>4.0</td>\n",
       "      <td>Returning_Visitor</td>\n",
       "      <td>Female</td>\n",
       "      <td>ALL</td>\n",
       "      <td>Others</td>\n",
       "      <td>Married</td>\n",
       "      <td>1.0</td>\n",
       "    </tr>\n",
       "    <tr>\n",
       "      <th>3</th>\n",
       "      <td>0.0</td>\n",
       "      <td>0.0</td>\n",
       "      <td>0.0</td>\n",
       "      <td>0.0</td>\n",
       "      <td>1.0</td>\n",
       "      <td>0.000000</td>\n",
       "      <td>0.20</td>\n",
       "      <td>0.20</td>\n",
       "      <td>0.0</td>\n",
       "      <td>0.4</td>\n",
       "      <td>...</td>\n",
       "      <td>2.0</td>\n",
       "      <td>4.0</td>\n",
       "      <td>3.0</td>\n",
       "      <td>3.0</td>\n",
       "      <td>Returning_Visitor</td>\n",
       "      <td>Male</td>\n",
       "      <td>ALL</td>\n",
       "      <td>Diploma</td>\n",
       "      <td>Single</td>\n",
       "      <td>0.0</td>\n",
       "    </tr>\n",
       "    <tr>\n",
       "      <th>4</th>\n",
       "      <td>1.0</td>\n",
       "      <td>0.0</td>\n",
       "      <td>0.0</td>\n",
       "      <td>0.0</td>\n",
       "      <td>0.0</td>\n",
       "      <td>0.000000</td>\n",
       "      <td>0.20</td>\n",
       "      <td>0.20</td>\n",
       "      <td>0.0</td>\n",
       "      <td>0.0</td>\n",
       "      <td>...</td>\n",
       "      <td>1.0</td>\n",
       "      <td>2.0</td>\n",
       "      <td>1.0</td>\n",
       "      <td>5.0</td>\n",
       "      <td>Returning_Visitor</td>\n",
       "      <td>Male</td>\n",
       "      <td>Deny</td>\n",
       "      <td>Diploma</td>\n",
       "      <td>Other</td>\n",
       "      <td>1.0</td>\n",
       "    </tr>\n",
       "  </tbody>\n",
       "</table>\n",
       "<p>5 rows × 21 columns</p>\n",
       "</div>"
      ],
      "text/plain": [
       "   HomePage  HomePage_Duration  LandingPage  LandingPage_Duration  \\\n",
       "0       0.0                0.0          0.0                   0.0   \n",
       "1       0.0                0.0          0.0                   0.0   \n",
       "2       0.0                0.0          0.0                   0.0   \n",
       "3       0.0                0.0          0.0                   0.0   \n",
       "4       1.0                0.0          0.0                   0.0   \n",
       "\n",
       "   ProductDescriptionPage  ProductDescriptionPage_Duration  \\\n",
       "0                     1.0                         0.000000   \n",
       "1                     2.0                         2.666667   \n",
       "2                    10.0                       627.500000   \n",
       "3                     1.0                         0.000000   \n",
       "4                     0.0                         0.000000   \n",
       "\n",
       "   GoogleMetric:Bounce Rates  GoogleMetric:Exit Rates  \\\n",
       "0                       0.20                     0.20   \n",
       "1                       0.05                     0.14   \n",
       "2                       0.02                     0.05   \n",
       "3                       0.20                     0.20   \n",
       "4                       0.20                     0.20   \n",
       "\n",
       "   GoogleMetric:Page Values  SeasonalPurchase  ...   OS  SearchEngine  Zone  \\\n",
       "0                       0.0               0.0  ...  4.0           1.0   9.0   \n",
       "1                       0.0               0.0  ...  3.0           2.0   2.0   \n",
       "2                       0.0               0.0  ...  3.0           3.0   1.0   \n",
       "3                       0.0               0.4  ...  2.0           4.0   3.0   \n",
       "4                       0.0               0.0  ...  1.0           2.0   1.0   \n",
       "\n",
       "   Type of Traffic       CustomerType         Gender Cookies Setting  \\\n",
       "0              3.0  Returning_Visitor  Not Specified            Deny   \n",
       "1              4.0  Returning_Visitor         Female            Deny   \n",
       "2              4.0  Returning_Visitor         Female             ALL   \n",
       "3              3.0  Returning_Visitor           Male             ALL   \n",
       "4              5.0  Returning_Visitor           Male            Deny   \n",
       "\n",
       "       Education Marital Status WeekendPurchase  \n",
       "0  Not Specified          Other             0.0  \n",
       "1         Others        Married             0.0  \n",
       "2         Others        Married             1.0  \n",
       "3        Diploma         Single             0.0  \n",
       "4        Diploma          Other             1.0  \n",
       "\n",
       "[5 rows x 21 columns]"
      ]
     },
     "execution_count": 16,
     "metadata": {},
     "output_type": "execute_result"
    }
   ],
   "source": [
    "X = train.drop(['Made_Purchase'], axis = 1)\n",
    "X.head()"
   ]
  },
  {
   "cell_type": "code",
   "execution_count": 17,
   "id": "7ff9819f",
   "metadata": {
    "execution": {
     "iopub.execute_input": "2023-03-20T10:18:37.014753Z",
     "iopub.status.busy": "2023-03-20T10:18:37.014278Z",
     "iopub.status.idle": "2023-03-20T10:18:37.021180Z",
     "shell.execute_reply": "2023-03-20T10:18:37.020091Z"
    },
    "papermill": {
     "duration": 0.027571,
     "end_time": "2023-03-20T10:18:37.023392",
     "exception": false,
     "start_time": "2023-03-20T10:18:36.995821",
     "status": "completed"
    },
    "tags": []
   },
   "outputs": [],
   "source": [
    "Y = train.iloc[:,-1:]\n",
    "Y.head()\n",
    "Y_main = Y.values.ravel()"
   ]
  },
  {
   "cell_type": "code",
   "execution_count": 18,
   "id": "6c176a57",
   "metadata": {
    "execution": {
     "iopub.execute_input": "2023-03-20T10:18:37.060480Z",
     "iopub.status.busy": "2023-03-20T10:18:37.059413Z",
     "iopub.status.idle": "2023-03-20T10:18:37.064711Z",
     "shell.execute_reply": "2023-03-20T10:18:37.063821Z"
    },
    "papermill": {
     "duration": 0.026151,
     "end_time": "2023-03-20T10:18:37.066953",
     "exception": false,
     "start_time": "2023-03-20T10:18:37.040802",
     "status": "completed"
    },
    "tags": []
   },
   "outputs": [],
   "source": [
    "numeric_features = ['HomePage',\n",
    "                    'HomePage_Duration',\n",
    "                    'LandingPage',\n",
    "                    'LandingPage_Duration',\n",
    "                    'ProductDescriptionPage',\n",
    "                    'ProductDescriptionPage_Duration',\n",
    "                    'GoogleMetric:Bounce Rates',\n",
    "                    'GoogleMetric:Exit Rates',\n",
    "                    'GoogleMetric:Page Values',\n",
    "                    'Type of Traffic',\n",
    "                    'SeasonalPurchase']"
   ]
  },
  {
   "cell_type": "code",
   "execution_count": 19,
   "id": "0bfb0459",
   "metadata": {
    "execution": {
     "iopub.execute_input": "2023-03-20T10:18:37.102924Z",
     "iopub.status.busy": "2023-03-20T10:18:37.102453Z",
     "iopub.status.idle": "2023-03-20T10:18:37.107517Z",
     "shell.execute_reply": "2023-03-20T10:18:37.106647Z"
    },
    "papermill": {
     "duration": 0.02554,
     "end_time": "2023-03-20T10:18:37.109507",
     "exception": false,
     "start_time": "2023-03-20T10:18:37.083967",
     "status": "completed"
    },
    "tags": []
   },
   "outputs": [],
   "source": [
    "categorical_features = ['Month_SeasonalPurchase',\n",
    "                        'CustomerType',\n",
    "                        'OS',\n",
    "                        'SearchEngine',\n",
    "                        'Zone',                        \n",
    "                        'Gender',\n",
    "                        'Cookies Setting',\n",
    "                        'Education',\n",
    "                        'Marital Status',\n",
    "                        'WeekendPurchase'\n",
    "                        ]"
   ]
  },
  {
   "cell_type": "code",
   "execution_count": 20,
   "id": "3237ec27",
   "metadata": {
    "execution": {
     "iopub.execute_input": "2023-03-20T10:18:37.146737Z",
     "iopub.status.busy": "2023-03-20T10:18:37.145507Z",
     "iopub.status.idle": "2023-03-20T10:18:37.505323Z",
     "shell.execute_reply": "2023-03-20T10:18:37.503505Z"
    },
    "papermill": {
     "duration": 0.381826,
     "end_time": "2023-03-20T10:18:37.508520",
     "exception": false,
     "start_time": "2023-03-20T10:18:37.126694",
     "status": "completed"
    },
    "tags": []
   },
   "outputs": [
    {
     "name": "stdout",
     "output_type": "stream",
     "text": [
      "(14731, 21)\n",
      "(14731, 69)\n",
      "(6599, 69)\n"
     ]
    }
   ],
   "source": [
    "from sklearn.impute import SimpleImputer\n",
    "from sklearn.pipeline import Pipeline\n",
    "from sklearn.preprocessing import StandardScaler, OneHotEncoder\n",
    "\n",
    "numeric_transformer = Pipeline(\n",
    "    steps = [(\"imputer\", SimpleImputer(missing_values=np.nan, strategy=\"mean\")),\n",
    "             (\"scaler\", StandardScaler())\n",
    "            ]\n",
    ")\n",
    "\n",
    "categorical_transformer = Pipeline(\n",
    "    steps = [(\"imputer\", SimpleImputer(missing_values=np.nan, strategy=\"most_frequent\")),\n",
    "             (\"ohe\", OneHotEncoder(handle_unknown='ignore'))\n",
    "            ]\n",
    ")\n",
    "from sklearn.compose import ColumnTransformer\n",
    "\n",
    "preprocessor = ColumnTransformer(\n",
    "    transformers=[\n",
    "    (\"num\", numeric_transformer, numeric_features),\n",
    "    (\"cat\", categorical_transformer, categorical_features)\n",
    "    ], remainder='passthrough'\n",
    ")\n",
    "\n",
    "\n",
    "X_train_main = preprocessor.fit_transform(X)\n",
    "print(X.shape)\n",
    "print(X_train_main.shape)\n",
    "\n",
    "test_f = preprocessor.fit_transform(test)\n",
    "print(test_f.shape)"
   ]
  },
  {
   "cell_type": "code",
   "execution_count": 21,
   "id": "1c3a9a89",
   "metadata": {
    "execution": {
     "iopub.execute_input": "2023-03-20T10:18:37.545683Z",
     "iopub.status.busy": "2023-03-20T10:18:37.545261Z",
     "iopub.status.idle": "2023-03-20T10:18:37.558155Z",
     "shell.execute_reply": "2023-03-20T10:18:37.556791Z"
    },
    "papermill": {
     "duration": 0.034743,
     "end_time": "2023-03-20T10:18:37.560948",
     "exception": false,
     "start_time": "2023-03-20T10:18:37.526205",
     "status": "completed"
    },
    "tags": []
   },
   "outputs": [],
   "source": [
    "from sklearn.model_selection import train_test_split\n",
    "\n",
    "X_train, X_test, Y_train, Y_test = train_test_split(X_train_main, Y_main, test_size=0.1, random_state=44)"
   ]
  },
  {
   "cell_type": "code",
   "execution_count": 22,
   "id": "761c01aa",
   "metadata": {
    "execution": {
     "iopub.execute_input": "2023-03-20T10:18:37.599038Z",
     "iopub.status.busy": "2023-03-20T10:18:37.598606Z",
     "iopub.status.idle": "2023-03-20T10:18:37.810202Z",
     "shell.execute_reply": "2023-03-20T10:18:37.808767Z"
    },
    "papermill": {
     "duration": 0.234737,
     "end_time": "2023-03-20T10:18:37.813437",
     "exception": false,
     "start_time": "2023-03-20T10:18:37.578700",
     "status": "completed"
    },
    "tags": []
   },
   "outputs": [],
   "source": [
    "from sklearn.linear_model import LogisticRegression, RidgeClassifier\n",
    "from sklearn.tree import DecisionTreeClassifier\n",
    "from sklearn.neighbors import KNeighborsClassifier\n",
    "from sklearn.naive_bayes import GaussianNB\n",
    "from sklearn.svm import SVC\n",
    "from sklearn.ensemble import RandomForestClassifier, GradientBoostingClassifier, AdaBoostClassifier\n",
    "from xgboost import XGBClassifier"
   ]
  },
  {
   "cell_type": "code",
   "execution_count": 23,
   "id": "5b92745b",
   "metadata": {
    "execution": {
     "iopub.execute_input": "2023-03-20T10:18:37.850060Z",
     "iopub.status.busy": "2023-03-20T10:18:37.849589Z",
     "iopub.status.idle": "2023-03-20T10:18:37.857111Z",
     "shell.execute_reply": "2023-03-20T10:18:37.855432Z"
    },
    "papermill": {
     "duration": 0.028991,
     "end_time": "2023-03-20T10:18:37.859794",
     "exception": false,
     "start_time": "2023-03-20T10:18:37.830803",
     "status": "completed"
    },
    "tags": []
   },
   "outputs": [],
   "source": [
    "LR = LogisticRegression(max_iter=1000)\n",
    "DC = DecisionTreeClassifier()\n",
    "RF = RandomForestClassifier()\n",
    "GNB = GaussianNB()\n",
    "KNN = KNeighborsClassifier()\n",
    "SVC = SVC()\n",
    "XGB = XGBClassifier()\n",
    "GBC = GradientBoostingClassifier()\n",
    "ADA = AdaBoostClassifier()\n",
    "RC = RidgeClassifier()\n"
   ]
  },
  {
   "cell_type": "code",
   "execution_count": 24,
   "id": "c0a45114",
   "metadata": {
    "execution": {
     "iopub.execute_input": "2023-03-20T10:18:37.897403Z",
     "iopub.status.busy": "2023-03-20T10:18:37.896963Z",
     "iopub.status.idle": "2023-03-20T10:18:37.902403Z",
     "shell.execute_reply": "2023-03-20T10:18:37.901076Z"
    },
    "papermill": {
     "duration": 0.027388,
     "end_time": "2023-03-20T10:18:37.904907",
     "exception": false,
     "start_time": "2023-03-20T10:18:37.877519",
     "status": "completed"
    },
    "tags": []
   },
   "outputs": [],
   "source": [
    "from sklearn.ensemble import StackingClassifier\n"
   ]
  },
  {
   "cell_type": "code",
   "execution_count": 25,
   "id": "8db51383",
   "metadata": {
    "execution": {
     "iopub.execute_input": "2023-03-20T10:18:37.943111Z",
     "iopub.status.busy": "2023-03-20T10:18:37.942671Z",
     "iopub.status.idle": "2023-03-20T10:18:37.949610Z",
     "shell.execute_reply": "2023-03-20T10:18:37.948190Z"
    },
    "papermill": {
     "duration": 0.029095,
     "end_time": "2023-03-20T10:18:37.952255",
     "exception": false,
     "start_time": "2023-03-20T10:18:37.923160",
     "status": "completed"
    },
    "tags": []
   },
   "outputs": [],
   "source": [
    "estimators = [\n",
    "                ('LR', LR),\n",
    "                ('DC', DC),\n",
    "                ('RF', RF),\n",
    "                ('GNB', GNB),\n",
    "                ('KNN', KNN),\n",
    "                ('SVC', SVC),\n",
    "                ('XGB', XGB),\n",
    "                ('GBC', GBC),\n",
    "                ('ADA', ADA),\n",
    "                ('RC', RC)\n",
    "            ]"
   ]
  },
  {
   "cell_type": "code",
   "execution_count": 26,
   "id": "f62b7c6c",
   "metadata": {
    "execution": {
     "iopub.execute_input": "2023-03-20T10:18:37.989454Z",
     "iopub.status.busy": "2023-03-20T10:18:37.989013Z",
     "iopub.status.idle": "2023-03-20T10:18:37.995841Z",
     "shell.execute_reply": "2023-03-20T10:18:37.994401Z"
    },
    "papermill": {
     "duration": 0.028313,
     "end_time": "2023-03-20T10:18:37.998299",
     "exception": false,
     "start_time": "2023-03-20T10:18:37.969986",
     "status": "completed"
    },
    "tags": []
   },
   "outputs": [],
   "source": [
    "def evalm(a):\n",
    "    a.fit(X_train, Y_train)\n",
    "    y_pred = a.predict(X_test)\n",
    "\n",
    "    return print(classification_report(Y_test, y_pred))"
   ]
  },
  {
   "cell_type": "code",
   "execution_count": 27,
   "id": "494e3387",
   "metadata": {
    "execution": {
     "iopub.execute_input": "2023-03-20T10:18:38.037213Z",
     "iopub.status.busy": "2023-03-20T10:18:38.036127Z",
     "iopub.status.idle": "2023-03-20T10:21:16.015220Z",
     "shell.execute_reply": "2023-03-20T10:21:16.013532Z"
    },
    "papermill": {
     "duration": 158.018536,
     "end_time": "2023-03-20T10:21:16.035228",
     "exception": false,
     "start_time": "2023-03-20T10:18:38.016692",
     "status": "completed"
    },
    "tags": []
   },
   "outputs": [
    {
     "name": "stdout",
     "output_type": "stream",
     "text": [
      "              precision    recall  f1-score   support\n",
      "\n",
      "       False       0.80      0.85      0.82       936\n",
      "        True       0.70      0.64      0.67       538\n",
      "\n",
      "    accuracy                           0.77      1474\n",
      "   macro avg       0.75      0.74      0.75      1474\n",
      "weighted avg       0.77      0.77      0.77      1474\n",
      "\n"
     ]
    }
   ],
   "source": [
    "stack_model = StackingClassifier(estimators=estimators,\n",
    "                                 final_estimator=SVC)\n",
    "\n",
    "\n",
    "evalm(stack_model)\n"
   ]
  },
  {
   "cell_type": "markdown",
   "id": "e2f36327",
   "metadata": {
    "papermill": {
     "duration": 0.017454,
     "end_time": "2023-03-20T10:21:16.070655",
     "exception": false,
     "start_time": "2023-03-20T10:21:16.053201",
     "status": "completed"
    },
    "tags": []
   },
   "source": [
    "## Hyperparameter Tuning & Classification Reports"
   ]
  },
  {
   "cell_type": "code",
   "execution_count": 28,
   "id": "b7b11c9b",
   "metadata": {
    "execution": {
     "iopub.execute_input": "2023-03-20T10:21:16.107649Z",
     "iopub.status.busy": "2023-03-20T10:21:16.107224Z",
     "iopub.status.idle": "2023-03-20T10:21:16.115738Z",
     "shell.execute_reply": "2023-03-20T10:21:16.114265Z"
    },
    "papermill": {
     "duration": 0.030419,
     "end_time": "2023-03-20T10:21:16.118367",
     "exception": false,
     "start_time": "2023-03-20T10:21:16.087948",
     "status": "completed"
    },
    "tags": []
   },
   "outputs": [],
   "source": [
    "from sklearn.model_selection import RandomizedSearchCV\n",
    "from scipy.stats import uniform\n",
    "\n",
    "def hyperparam_tuning_eval(model, param_distributions, n_iter=100, cv=10):\n",
    "\n",
    "    random_search = RandomizedSearchCV(model, param_distributions=param_distributions, n_iter=n_iter, cv=cv, scoring='accuracy', verbose=0, n_jobs=-1)\n",
    "    random_search.fit(X_train_main, Y_main)\n",
    "\n",
    "    best_params = random_search.best_params_\n",
    "    print(\"Best parameters:\", best_params)\n",
    "\n",
    "    best_model = model.set_params(**best_params)\n",
    "    best_model.fit(X_train, Y_train)\n",
    "\n",
    "    y_pred = best_model.predict(X_test)\n",
    "    return print(classification_report(Y_test, y_pred))"
   ]
  },
  {
   "cell_type": "code",
   "execution_count": 29,
   "id": "0ef62367",
   "metadata": {
    "execution": {
     "iopub.execute_input": "2023-03-20T10:21:16.155779Z",
     "iopub.status.busy": "2023-03-20T10:21:16.155347Z",
     "iopub.status.idle": "2023-03-20T10:22:46.060114Z",
     "shell.execute_reply": "2023-03-20T10:22:46.058105Z"
    },
    "papermill": {
     "duration": 89.929244,
     "end_time": "2023-03-20T10:22:46.065238",
     "exception": false,
     "start_time": "2023-03-20T10:21:16.135994",
     "status": "completed"
    },
    "tags": []
   },
   "outputs": [
    {
     "name": "stdout",
     "output_type": "stream",
     "text": [
      "Best parameters: {'warm_start': True, 'solver': 'newton-cg', 'C': 0.02}\n",
      "              precision    recall  f1-score   support\n",
      "\n",
      "       False       0.67      0.96      0.79       936\n",
      "        True       0.71      0.19      0.30       538\n",
      "\n",
      "    accuracy                           0.68      1474\n",
      "   macro avg       0.69      0.57      0.54      1474\n",
      "weighted avg       0.68      0.68      0.61      1474\n",
      "\n"
     ]
    }
   ],
   "source": [
    "param_distributions = {\n",
    "    'warm_start' : [True, False],\n",
    "    'solver' : ['lbfgs', 'newton-cg', 'liblinear'],\n",
    "    'C' : np.arange(0, 1, 0.01)\n",
    "}\n",
    "\n",
    "hyperparam_tuning_eval(LR, param_distributions, n_iter=50)"
   ]
  },
  {
   "cell_type": "code",
   "execution_count": 30,
   "id": "5db13951",
   "metadata": {
    "execution": {
     "iopub.execute_input": "2023-03-20T10:22:46.157764Z",
     "iopub.status.busy": "2023-03-20T10:22:46.156714Z",
     "iopub.status.idle": "2023-03-20T12:53:45.199564Z",
     "shell.execute_reply": "2023-03-20T12:53:45.197601Z"
    },
    "papermill": {
     "duration": 9059.092224,
     "end_time": "2023-03-20T12:53:45.202286",
     "exception": false,
     "start_time": "2023-03-20T10:22:46.110062",
     "status": "completed"
    },
    "tags": []
   },
   "outputs": [
    {
     "name": "stderr",
     "output_type": "stream",
     "text": [
      "/opt/conda/lib/python3.7/site-packages/joblib/externals/loky/process_executor.py:691: UserWarning: A worker stopped while some jobs were given to the executor. This can be caused by a too short worker timeout or by a memory leak.\n",
      "  \"timeout or by a memory leak.\", UserWarning\n"
     ]
    },
    {
     "name": "stdout",
     "output_type": "stream",
     "text": [
      "Best parameters: {'C': 0.6359585671566159, 'gamma': 'auto', 'kernel': 'rbf'}\n",
      "              precision    recall  f1-score   support\n",
      "\n",
      "       False       0.67      0.96      0.79       936\n",
      "        True       0.74      0.19      0.30       538\n",
      "\n",
      "    accuracy                           0.68      1474\n",
      "   macro avg       0.71      0.58      0.55      1474\n",
      "weighted avg       0.70      0.68      0.61      1474\n",
      "\n"
     ]
    }
   ],
   "source": [
    "param_distributions = {\n",
    "    'kernel': ['linear', 'poly', 'rbf', 'sigmoid'],\n",
    "    'gamma': ['scale', 'auto'],\n",
    "    'C': uniform(0, 10)\n",
    "}\n",
    "\n",
    "hyperparam_tuning_eval(SVC, param_distributions, n_iter=50)"
   ]
  },
  {
   "cell_type": "code",
   "execution_count": 31,
   "id": "5250f364",
   "metadata": {
    "execution": {
     "iopub.execute_input": "2023-03-20T12:53:45.242314Z",
     "iopub.status.busy": "2023-03-20T12:53:45.241093Z",
     "iopub.status.idle": "2023-03-20T13:08:53.669264Z",
     "shell.execute_reply": "2023-03-20T13:08:53.667964Z"
    },
    "papermill": {
     "duration": 908.451373,
     "end_time": "2023-03-20T13:08:53.672190",
     "exception": false,
     "start_time": "2023-03-20T12:53:45.220817",
     "status": "completed"
    },
    "tags": []
   },
   "outputs": [
    {
     "name": "stdout",
     "output_type": "stream",
     "text": [
      "Best parameters: {'n_estimators': 50, 'min_samples_split': 5, 'min_samples_leaf': 4, 'max_features': 'sqrt', 'max_depth': 5}\n",
      "              precision    recall  f1-score   support\n",
      "\n",
      "       False       0.68      0.95      0.79       936\n",
      "        True       0.72      0.20      0.32       538\n",
      "\n",
      "    accuracy                           0.68      1474\n",
      "   macro avg       0.70      0.58      0.55      1474\n",
      "weighted avg       0.69      0.68      0.62      1474\n",
      "\n"
     ]
    }
   ],
   "source": [
    "param_distributions = {\n",
    "    'n_estimators': [50, 100, 150, 200, 300, 400, 500, 700],\n",
    "    'max_features': ['auto', 'sqrt', 'log2'],\n",
    "    'max_depth': list(range(3, 20)),\n",
    "    'min_samples_split': [2, 3, 5, 7, 10],\n",
    "    'min_samples_leaf': [1, 2, 4, 7]\n",
    "}\n",
    "\n",
    "hyperparam_tuning_eval(RF, param_distributions, n_iter=50)"
   ]
  },
  {
   "cell_type": "code",
   "execution_count": 32,
   "id": "63fdae92",
   "metadata": {
    "execution": {
     "iopub.execute_input": "2023-03-20T13:08:53.712036Z",
     "iopub.status.busy": "2023-03-20T13:08:53.711224Z",
     "iopub.status.idle": "2023-03-20T13:09:11.616987Z",
     "shell.execute_reply": "2023-03-20T13:09:11.615665Z"
    },
    "papermill": {
     "duration": 17.928426,
     "end_time": "2023-03-20T13:09:11.619622",
     "exception": false,
     "start_time": "2023-03-20T13:08:53.691196",
     "status": "completed"
    },
    "tags": []
   },
   "outputs": [
    {
     "name": "stdout",
     "output_type": "stream",
     "text": [
      "Best parameters: {'min_samples_split': 5, 'max_leaf_nodes': 3}\n",
      "              precision    recall  f1-score   support\n",
      "\n",
      "       False       0.69      0.88      0.77       936\n",
      "        True       0.60      0.32      0.42       538\n",
      "\n",
      "    accuracy                           0.67      1474\n",
      "   macro avg       0.65      0.60      0.60      1474\n",
      "weighted avg       0.66      0.67      0.64      1474\n",
      "\n"
     ]
    }
   ],
   "source": [
    "param_distributions = {\n",
    "    'max_leaf_nodes': list(range(2, 100)), \n",
    "    'min_samples_split': [2, 3, 4, 5, 6, 8]\n",
    "}\n",
    "\n",
    "hyperparam_tuning_eval(DC, param_distributions, n_iter=50)"
   ]
  },
  {
   "cell_type": "code",
   "execution_count": 33,
   "id": "62d07a2b",
   "metadata": {
    "execution": {
     "iopub.execute_input": "2023-03-20T13:09:11.659212Z",
     "iopub.status.busy": "2023-03-20T13:09:11.658502Z",
     "iopub.status.idle": "2023-03-20T13:09:15.870226Z",
     "shell.execute_reply": "2023-03-20T13:09:15.868791Z"
    },
    "papermill": {
     "duration": 4.234595,
     "end_time": "2023-03-20T13:09:15.872939",
     "exception": false,
     "start_time": "2023-03-20T13:09:11.638344",
     "status": "completed"
    },
    "tags": []
   },
   "outputs": [
    {
     "name": "stdout",
     "output_type": "stream",
     "text": [
      "Best parameters: {'var_smoothing': 0.3511191734215131}\n",
      "              precision    recall  f1-score   support\n",
      "\n",
      "       False       0.66      0.91      0.77       936\n",
      "        True       0.54      0.18      0.27       538\n",
      "\n",
      "    accuracy                           0.65      1474\n",
      "   macro avg       0.60      0.55      0.52      1474\n",
      "weighted avg       0.62      0.65      0.59      1474\n",
      "\n"
     ]
    }
   ],
   "source": [
    "param_distributions = {\n",
    "    'var_smoothing': np.logspace(0,-9, num=100)\n",
    "}\n",
    "\n",
    "\n",
    "hyperparam_tuning_eval(GNB, param_distributions, n_iter=50)"
   ]
  },
  {
   "cell_type": "code",
   "execution_count": 34,
   "id": "e84fbf70",
   "metadata": {
    "execution": {
     "iopub.execute_input": "2023-03-20T13:09:15.911432Z",
     "iopub.status.busy": "2023-03-20T13:09:15.911039Z",
     "iopub.status.idle": "2023-03-20T13:12:22.750176Z",
     "shell.execute_reply": "2023-03-20T13:12:22.748757Z"
    },
    "papermill": {
     "duration": 186.862896,
     "end_time": "2023-03-20T13:12:22.754100",
     "exception": false,
     "start_time": "2023-03-20T13:09:15.891204",
     "status": "completed"
    },
    "tags": []
   },
   "outputs": [
    {
     "name": "stdout",
     "output_type": "stream",
     "text": [
      "Best parameters: {'weights': 'uniform', 'p': 2, 'n_neighbors': 18, 'leaf_size': 29}\n",
      "              precision    recall  f1-score   support\n",
      "\n",
      "       False       0.66      0.93      0.77       936\n",
      "        True       0.56      0.14      0.23       538\n",
      "\n",
      "    accuracy                           0.65      1474\n",
      "   macro avg       0.61      0.54      0.50      1474\n",
      "weighted avg       0.62      0.65      0.57      1474\n",
      "\n"
     ]
    }
   ],
   "source": [
    "param_distributions = { \n",
    "        'n_neighbors' : list(range(2, 20)),\n",
    "        'leaf_size' : list(range(1, 50)),\n",
    "        'weights' : ['uniform','distance'],\n",
    "        'p' : [1,2]\n",
    "}\n",
    "\n",
    "hyperparam_tuning_eval(KNN, param_distributions, n_iter=50)"
   ]
  },
  {
   "cell_type": "code",
   "execution_count": 35,
   "id": "9cdf8206",
   "metadata": {
    "execution": {
     "iopub.execute_input": "2023-03-20T13:12:22.797566Z",
     "iopub.status.busy": "2023-03-20T13:12:22.795647Z",
     "iopub.status.idle": "2023-03-20T14:24:39.732688Z",
     "shell.execute_reply": "2023-03-20T14:24:39.731472Z"
    },
    "papermill": {
     "duration": 4336.962542,
     "end_time": "2023-03-20T14:24:39.735629",
     "exception": false,
     "start_time": "2023-03-20T13:12:22.773087",
     "status": "completed"
    },
    "tags": []
   },
   "outputs": [
    {
     "name": "stderr",
     "output_type": "stream",
     "text": [
      "/opt/conda/lib/python3.7/site-packages/joblib/externals/loky/process_executor.py:691: UserWarning: A worker stopped while some jobs were given to the executor. This can be caused by a too short worker timeout or by a memory leak.\n",
      "  \"timeout or by a memory leak.\", UserWarning\n"
     ]
    },
    {
     "name": "stdout",
     "output_type": "stream",
     "text": [
      "Best parameters: {'subsample': 0.7, 'n_estimators': 250, 'max_depth': 3, 'learning_rate': 0.01, 'colsample_bytree': 0.7, 'colsample_bylevel': 0.7}\n",
      "              precision    recall  f1-score   support\n",
      "\n",
      "       False       0.69      0.92      0.79       936\n",
      "        True       0.66      0.28      0.39       538\n",
      "\n",
      "    accuracy                           0.68      1474\n",
      "   macro avg       0.67      0.60      0.59      1474\n",
      "weighted avg       0.68      0.68      0.64      1474\n",
      "\n"
     ]
    }
   ],
   "source": [
    "param_distributions = { \n",
    "        'max_depth': [3, 5, 6, 8, 10, 12, 15, 20],\n",
    "        'learning_rate': [0.01, 0.05, 0.1, 0.2, 0.3, 0.5, 1],\n",
    "        'subsample': np.arange(0.5, 1.0, 0.1),\n",
    "        'colsample_bytree': np.arange(0.4, 1.0, 0.1),\n",
    "        'colsample_bylevel': np.arange(0.4, 1.0, 0.1),\n",
    "        'n_estimators': [50, 100, 250, 500, 1000]\n",
    "}\n",
    "\n",
    "hyperparam_tuning_eval(XGB, param_distributions, n_iter=50)"
   ]
  },
  {
   "cell_type": "code",
   "execution_count": 36,
   "id": "de2f5bc4",
   "metadata": {
    "execution": {
     "iopub.execute_input": "2023-03-20T14:24:39.776237Z",
     "iopub.status.busy": "2023-03-20T14:24:39.775793Z",
     "iopub.status.idle": "2023-03-20T16:48:07.824764Z",
     "shell.execute_reply": "2023-03-20T16:48:07.822923Z"
    },
    "papermill": {
     "duration": 8608.07312,
     "end_time": "2023-03-20T16:48:07.827922",
     "exception": false,
     "start_time": "2023-03-20T14:24:39.754802",
     "status": "completed"
    },
    "tags": []
   },
   "outputs": [
    {
     "name": "stderr",
     "output_type": "stream",
     "text": [
      "/opt/conda/lib/python3.7/site-packages/joblib/externals/loky/process_executor.py:691: UserWarning: A worker stopped while some jobs were given to the executor. This can be caused by a too short worker timeout or by a memory leak.\n",
      "  \"timeout or by a memory leak.\", UserWarning\n"
     ]
    },
    {
     "name": "stdout",
     "output_type": "stream",
     "text": [
      "Best parameters: {'n_estimators': 50, 'max_depth': 5, 'learning_rate': 0.01}\n",
      "              precision    recall  f1-score   support\n",
      "\n",
      "       False       0.66      0.98      0.79       936\n",
      "        True       0.77      0.14      0.24       538\n",
      "\n",
      "    accuracy                           0.67      1474\n",
      "   macro avg       0.72      0.56      0.52      1474\n",
      "weighted avg       0.70      0.67      0.59      1474\n",
      "\n"
     ]
    }
   ],
   "source": [
    "param_distributions = {\n",
    "    'max_depth': [3, 5, 6, 8, 10, 12, 15, 20],\n",
    "    'learning_rate': [0.01, 0.05, 0.1, 0.2, 0.3, 0.5, 1],\n",
    "    'n_estimators': [10, 50, 100, 250, 500, 1000]\n",
    "}\n",
    "\n",
    "hyperparam_tuning_eval(GBC, param_distributions, n_iter=50)"
   ]
  },
  {
   "cell_type": "code",
   "execution_count": 37,
   "id": "98281932",
   "metadata": {
    "execution": {
     "iopub.execute_input": "2023-03-20T16:48:07.870449Z",
     "iopub.status.busy": "2023-03-20T16:48:07.869957Z",
     "iopub.status.idle": "2023-03-20T17:12:10.898899Z",
     "shell.execute_reply": "2023-03-20T17:12:10.897636Z"
    },
    "papermill": {
     "duration": 1443.054052,
     "end_time": "2023-03-20T17:12:10.901578",
     "exception": false,
     "start_time": "2023-03-20T16:48:07.847526",
     "status": "completed"
    },
    "tags": []
   },
   "outputs": [
    {
     "name": "stderr",
     "output_type": "stream",
     "text": [
      "/opt/conda/lib/python3.7/site-packages/sklearn/model_selection/_search.py:296: UserWarning: The total space of parameters 42 is smaller than n_iter=50. Running 42 iterations. For exhaustive searches, use GridSearchCV.\n",
      "  UserWarning,\n"
     ]
    },
    {
     "name": "stdout",
     "output_type": "stream",
     "text": [
      "Best parameters: {'n_estimators': 10, 'learning_rate': 0.1}\n",
      "              precision    recall  f1-score   support\n",
      "\n",
      "       False       0.69      0.93      0.79       936\n",
      "        True       0.69      0.25      0.37       538\n",
      "\n",
      "    accuracy                           0.69      1474\n",
      "   macro avg       0.69      0.59      0.58      1474\n",
      "weighted avg       0.69      0.69      0.64      1474\n",
      "\n"
     ]
    }
   ],
   "source": [
    "param_distributions = {\n",
    "    'learning_rate': [0.01, 0.05, 0.1, 0.2, 0.3, 0.5, 1],\n",
    "    'n_estimators': [10, 50, 100, 250, 500, 1000]\n",
    "}\n",
    "\n",
    "hyperparam_tuning_eval(ADA, param_distributions, n_iter=50)"
   ]
  },
  {
   "cell_type": "code",
   "execution_count": 38,
   "id": "4c536e67",
   "metadata": {
    "execution": {
     "iopub.execute_input": "2023-03-20T17:12:10.943056Z",
     "iopub.status.busy": "2023-03-20T17:12:10.942295Z",
     "iopub.status.idle": "2023-03-20T17:12:16.989687Z",
     "shell.execute_reply": "2023-03-20T17:12:16.987790Z"
    },
    "papermill": {
     "duration": 6.07333,
     "end_time": "2023-03-20T17:12:16.994328",
     "exception": false,
     "start_time": "2023-03-20T17:12:10.920998",
     "status": "completed"
    },
    "tags": []
   },
   "outputs": [
    {
     "name": "stdout",
     "output_type": "stream",
     "text": [
      "Best parameters: {'alpha': 0.79}\n",
      "              precision    recall  f1-score   support\n",
      "\n",
      "       False       0.66      0.96      0.78       936\n",
      "        True       0.69      0.15      0.25       538\n",
      "\n",
      "    accuracy                           0.67      1474\n",
      "   macro avg       0.68      0.56      0.52      1474\n",
      "weighted avg       0.67      0.67      0.59      1474\n",
      "\n"
     ]
    }
   ],
   "source": [
    "param_distributions = {\n",
    "    'alpha' : np.arange(0, 1, 0.01)\n",
    "}\n",
    "\n",
    "hyperparam_tuning_eval(RC, param_distributions, n_iter=50)"
   ]
  },
  {
   "cell_type": "markdown",
   "id": "7c8277d5",
   "metadata": {
    "papermill": {
     "duration": 0.019539,
     "end_time": "2023-03-20T17:12:17.102416",
     "exception": false,
     "start_time": "2023-03-20T17:12:17.082877",
     "status": "completed"
    },
    "tags": []
   },
   "source": [
    "### Tuned Stacking Model"
   ]
  },
  {
   "cell_type": "code",
   "execution_count": 39,
   "id": "448188a6",
   "metadata": {
    "execution": {
     "iopub.execute_input": "2023-03-20T17:12:17.143373Z",
     "iopub.status.busy": "2023-03-20T17:12:17.142983Z",
     "iopub.status.idle": "2023-03-20T17:14:37.479004Z",
     "shell.execute_reply": "2023-03-20T17:14:37.477569Z"
    },
    "papermill": {
     "duration": 140.379805,
     "end_time": "2023-03-20T17:14:37.501790",
     "exception": false,
     "start_time": "2023-03-20T17:12:17.121985",
     "status": "completed"
    },
    "tags": []
   },
   "outputs": [
    {
     "name": "stdout",
     "output_type": "stream",
     "text": [
      "              precision    recall  f1-score   support\n",
      "\n",
      "       False       0.69      0.92      0.79       936\n",
      "        True       0.66      0.28      0.40       538\n",
      "\n",
      "    accuracy                           0.69      1474\n",
      "   macro avg       0.68      0.60      0.59      1474\n",
      "weighted avg       0.68      0.69      0.64      1474\n",
      "\n"
     ]
    }
   ],
   "source": [
    "stack_model = StackingClassifier(estimators=estimators,\n",
    "                                 final_estimator=SVC)\n",
    "\n",
    "evalm(stack_model)"
   ]
  },
  {
   "cell_type": "markdown",
   "id": "890a4bc0",
   "metadata": {
    "papermill": {
     "duration": 0.019889,
     "end_time": "2023-03-20T17:14:37.542481",
     "exception": false,
     "start_time": "2023-03-20T17:14:37.522592",
     "status": "completed"
    },
    "tags": []
   },
   "source": [
    "## Final Submission"
   ]
  },
  {
   "cell_type": "code",
   "execution_count": 40,
   "id": "fe8d86e2",
   "metadata": {
    "execution": {
     "iopub.execute_input": "2023-03-20T17:14:37.586766Z",
     "iopub.status.busy": "2023-03-20T17:14:37.586182Z",
     "iopub.status.idle": "2023-03-20T17:14:37.655782Z",
     "shell.execute_reply": "2023-03-20T17:14:37.654228Z"
    },
    "papermill": {
     "duration": 0.095235,
     "end_time": "2023-03-20T17:14:37.658744",
     "exception": false,
     "start_time": "2023-03-20T17:14:37.563509",
     "status": "completed"
    },
    "tags": []
   },
   "outputs": [
    {
     "name": "stdout",
     "output_type": "stream",
     "text": [
      "(6599, 69)\n"
     ]
    }
   ],
   "source": [
    "test_f = preprocessor.fit_transform(test)\n",
    "\n",
    "print(test_f.shape)"
   ]
  },
  {
   "cell_type": "code",
   "execution_count": 41,
   "id": "15490434",
   "metadata": {
    "execution": {
     "iopub.execute_input": "2023-03-20T17:14:37.702048Z",
     "iopub.status.busy": "2023-03-20T17:14:37.701581Z",
     "iopub.status.idle": "2023-03-20T17:14:51.969604Z",
     "shell.execute_reply": "2023-03-20T17:14:51.968144Z"
    },
    "papermill": {
     "duration": 14.292755,
     "end_time": "2023-03-20T17:14:51.972310",
     "exception": false,
     "start_time": "2023-03-20T17:14:37.679555",
     "status": "completed"
    },
    "tags": []
   },
   "outputs": [
    {
     "name": "stdout",
     "output_type": "stream",
     "text": [
      "6599\n"
     ]
    }
   ],
   "source": [
    "test_f_pred = stack_model.predict(test_f)\n",
    "\n",
    "print(len(test_f_pred))"
   ]
  },
  {
   "cell_type": "code",
   "execution_count": 42,
   "id": "b437d302",
   "metadata": {
    "execution": {
     "iopub.execute_input": "2023-03-20T17:14:52.014939Z",
     "iopub.status.busy": "2023-03-20T17:14:52.014445Z",
     "iopub.status.idle": "2023-03-20T17:14:52.041784Z",
     "shell.execute_reply": "2023-03-20T17:14:52.040532Z"
    },
    "papermill": {
     "duration": 0.051655,
     "end_time": "2023-03-20T17:14:52.044403",
     "exception": false,
     "start_time": "2023-03-20T17:14:51.992748",
     "status": "completed"
    },
    "tags": []
   },
   "outputs": [
    {
     "data": {
      "text/html": [
       "<div>\n",
       "<style scoped>\n",
       "    .dataframe tbody tr th:only-of-type {\n",
       "        vertical-align: middle;\n",
       "    }\n",
       "\n",
       "    .dataframe tbody tr th {\n",
       "        vertical-align: top;\n",
       "    }\n",
       "\n",
       "    .dataframe thead th {\n",
       "        text-align: right;\n",
       "    }\n",
       "</style>\n",
       "<table border=\"1\" class=\"dataframe\">\n",
       "  <thead>\n",
       "    <tr style=\"text-align: right;\">\n",
       "      <th></th>\n",
       "      <th>id</th>\n",
       "      <th>Made_Purchase</th>\n",
       "    </tr>\n",
       "  </thead>\n",
       "  <tbody>\n",
       "    <tr>\n",
       "      <th>0</th>\n",
       "      <td>0</td>\n",
       "      <td>False</td>\n",
       "    </tr>\n",
       "    <tr>\n",
       "      <th>1</th>\n",
       "      <td>1</td>\n",
       "      <td>False</td>\n",
       "    </tr>\n",
       "    <tr>\n",
       "      <th>2</th>\n",
       "      <td>2</td>\n",
       "      <td>False</td>\n",
       "    </tr>\n",
       "    <tr>\n",
       "      <th>3</th>\n",
       "      <td>3</td>\n",
       "      <td>False</td>\n",
       "    </tr>\n",
       "    <tr>\n",
       "      <th>4</th>\n",
       "      <td>4</td>\n",
       "      <td>False</td>\n",
       "    </tr>\n",
       "    <tr>\n",
       "      <th>...</th>\n",
       "      <td>...</td>\n",
       "      <td>...</td>\n",
       "    </tr>\n",
       "    <tr>\n",
       "      <th>6594</th>\n",
       "      <td>6594</td>\n",
       "      <td>False</td>\n",
       "    </tr>\n",
       "    <tr>\n",
       "      <th>6595</th>\n",
       "      <td>6595</td>\n",
       "      <td>False</td>\n",
       "    </tr>\n",
       "    <tr>\n",
       "      <th>6596</th>\n",
       "      <td>6596</td>\n",
       "      <td>False</td>\n",
       "    </tr>\n",
       "    <tr>\n",
       "      <th>6597</th>\n",
       "      <td>6597</td>\n",
       "      <td>False</td>\n",
       "    </tr>\n",
       "    <tr>\n",
       "      <th>6598</th>\n",
       "      <td>6598</td>\n",
       "      <td>False</td>\n",
       "    </tr>\n",
       "  </tbody>\n",
       "</table>\n",
       "<p>6599 rows × 2 columns</p>\n",
       "</div>"
      ],
      "text/plain": [
       "        id  Made_Purchase\n",
       "0        0          False\n",
       "1        1          False\n",
       "2        2          False\n",
       "3        3          False\n",
       "4        4          False\n",
       "...    ...            ...\n",
       "6594  6594          False\n",
       "6595  6595          False\n",
       "6596  6596          False\n",
       "6597  6597          False\n",
       "6598  6598          False\n",
       "\n",
       "[6599 rows x 2 columns]"
      ]
     },
     "execution_count": 42,
     "metadata": {},
     "output_type": "execute_result"
    }
   ],
   "source": [
    "result_f = pd.DataFrame(columns=['id', 'Made_Purchase'])\n",
    "\n",
    "result_f['id'] = [i for i in range(len(test_f_pred))]\n",
    "result_f['Made_Purchase'] = test_f_pred\n",
    "result_f"
   ]
  },
  {
   "cell_type": "code",
   "execution_count": 43,
   "id": "701d498a",
   "metadata": {
    "execution": {
     "iopub.execute_input": "2023-03-20T17:14:52.088550Z",
     "iopub.status.busy": "2023-03-20T17:14:52.088119Z",
     "iopub.status.idle": "2023-03-20T17:14:52.105426Z",
     "shell.execute_reply": "2023-03-20T17:14:52.103901Z"
    },
    "papermill": {
     "duration": 0.042452,
     "end_time": "2023-03-20T17:14:52.108440",
     "exception": false,
     "start_time": "2023-03-20T17:14:52.065988",
     "status": "completed"
    },
    "tags": []
   },
   "outputs": [],
   "source": [
    "result_f.to_csv('submission.csv', index=False)"
   ]
  },
  {
   "cell_type": "code",
   "execution_count": 44,
   "id": "1cbc000c",
   "metadata": {
    "execution": {
     "iopub.execute_input": "2023-03-20T17:14:52.152388Z",
     "iopub.status.busy": "2023-03-20T17:14:52.151903Z",
     "iopub.status.idle": "2023-03-20T17:14:52.157955Z",
     "shell.execute_reply": "2023-03-20T17:14:52.156796Z"
    },
    "papermill": {
     "duration": 0.030843,
     "end_time": "2023-03-20T17:14:52.160554",
     "exception": false,
     "start_time": "2023-03-20T17:14:52.129711",
     "status": "completed"
    },
    "tags": []
   },
   "outputs": [
    {
     "name": "stdout",
     "output_type": "stream",
     "text": [
      "done\n"
     ]
    }
   ],
   "source": [
    "print('done')"
   ]
  }
 ],
 "metadata": {
  "kernelspec": {
   "display_name": "Python 3",
   "language": "python",
   "name": "python3"
  },
  "language_info": {
   "codemirror_mode": {
    "name": "ipython",
    "version": 3
   },
   "file_extension": ".py",
   "mimetype": "text/x-python",
   "name": "python",
   "nbconvert_exporter": "python",
   "pygments_lexer": "ipython3",
   "version": "3.7.12"
  },
  "papermill": {
   "default_parameters": {},
   "duration": 24997.193721,
   "end_time": "2023-03-20T17:14:54.857769",
   "environment_variables": {},
   "exception": null,
   "input_path": "__notebook__.ipynb",
   "output_path": "__notebook__.ipynb",
   "parameters": {},
   "start_time": "2023-03-20T10:18:17.664048",
   "version": "2.3.4"
  }
 },
 "nbformat": 4,
 "nbformat_minor": 5
}
